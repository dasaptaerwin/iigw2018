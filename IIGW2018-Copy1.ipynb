{
 "cells": [
  {
   "cell_type": "markdown",
   "metadata": {
    "nbpresent": {
     "id": "ccaf80c3-1220-4001-80ed-1519ddf82a05"
    },
    "slideshow": {
     "slide_type": "slide"
    }
   },
   "source": [
    "using hydrochemistry and simple visualization to differentiate groundwater samples\n",
    "===\n",
    "\n",
    "presented in 2018 International ITB Geothermal Workshop \n",
    "21 - 22 Maret 2018\n",
    "\n",
    "authors:\n",
    "\n",
    "- Dasapta Erwin Irawan [ORCID](https://orcid.org/0000-0002-1526-0863) [Google Scholar]()\n",
    "- Arif Susanto [Google Scholar](https://scholar.google.co.id/citations?hl=en&user=zymmkxUAAAAJ&view_op=list_works&sortby=pubdate)\n",
    "- Prihadi Sumintadireja [Google Scholar](https://scholar.google.co.id/citations?user=G3uiPMoAAAAJ&hl=en)\n",
    "- Budi Brahmantyo [Google Scholar](https://scholar.google.co.id/citations?user=t7CtT5MAAAAJ&hl=en&oi=ao)\n",
    "- Deny Juanda Puradimaja [Google Scholar](https://scholar.google.co.id/citations?user=-Z9rgsQAAAAJ&hl=en&oi=ao)\n",
    "\n",
    "![itb](itb.png)\n",
    "\n",
    "**Faculty of Earth Sciences and Technology**\n",
    "\n",
    "**Institut Teknologi Bandung**"
   ]
  },
  {
   "cell_type": "markdown",
   "metadata": {
    "nbpresent": {
     "id": "18903a2f-38e8-47d8-9310-aa6619abf376"
    },
    "slideshow": {
     "slide_type": "slide"
    }
   },
   "source": [
    "# before you continue\n",
    "\n",
    "this talk **is not** about: \n",
    "\n",
    "- **geology**, but how to differentiate the geology.\n",
    "- **geothermal**, but you may look at your data differently.\n",
    "- **results**, but methods.\n",
    "\n",
    "![geology](geology.png)"
   ]
  },
  {
   "cell_type": "markdown",
   "metadata": {
    "nbpresent": {
     "id": "1b872498-e595-4dce-bc7a-03287ef8d1fb"
    },
    "slideshow": {
     "slide_type": "slide"
    }
   },
   "source": [
    "# introduction\n",
    "\n",
    "- we have lots of data.\n",
    "- we know they are different but don't how to visualize the difference.\n",
    "- if we know how to do it, we don't have the skills and tools.\n",
    "- here we are proposing a new way to look at your data using **free tools** with a bit of programming skills.\n",
    "\n",
    "![free_wifi_flickr_cc0](freeflickr.jpg)"
   ]
  },
  {
   "cell_type": "markdown",
   "metadata": {
    "nbpresent": {
     "id": "35268107-19df-41af-b24e-30bdec734ee8"
    },
    "slideshow": {
     "slide_type": "slide"
    }
   },
   "source": [
    "## but we do have spreadsheet\n",
    "\n",
    "yes, but with some limitations:\n",
    "\n",
    "- it's cell-based, you have to scroll you way to get what you want.\n",
    "- it's limited ability to visualize your data.\n",
    "- it has reproducibility issues: versioning, _point and click_, copy and paste to your show the results.\n",
    "\n",
    "![xls](xls.png)"
   ]
  },
  {
   "cell_type": "markdown",
   "metadata": {
    "nbpresent": {
     "id": "94554f0e-4aa5-4077-af52-c031fdc43c79"
    },
    "slideshow": {
     "slide_type": "slide"
    }
   },
   "source": [
    "## I like it but I don't have programming skills\n",
    "\n",
    "- it's not that hard.\n",
    "- many **good people** share their work (including codes). \n",
    "- the **difficulties** are not comparable to the **coolness**. :-)\n",
    "\n",
    "![code_screen_pexels_cc0](codepexels.jpeg)"
   ]
  },
  {
   "cell_type": "markdown",
   "metadata": {
    "nbpresent": {
     "id": "4daed158-5a99-4a46-9e05-4d36632a908f"
    },
    "slideshow": {
     "slide_type": "slide"
    }
   },
   "source": [
    "## why codes?\n",
    "\n",
    "- **it's reproducible**: people can get the same results from the same code and data, with no copy-pasting.\n",
    "- **it's not only about the results**: but also the process. you can learn the process step by step.\n",
    "- it's about **pretty-informative** visualization\n",
    "\n",
    "![code_mug_pixabay_cc0](codemug.png)"
   ]
  },
  {
   "cell_type": "markdown",
   "metadata": {
    "nbpresent": {
     "id": "e9ed126e-f317-46a5-8f4d-301232b46827"
    },
    "slideshow": {
     "slide_type": "slide"
    }
   },
   "source": [
    "# what do we need?\n",
    "\n",
    "you may choose on or both:\n",
    "    \n",
    "- `python` installation [Anaconda installation instruction](https://conda.io/docs/installation.html) [on Youtube](https://www.youtube.com/watch?v=YJC6ldI3hWk) or\n",
    "- `R`installation [instructions](a-little-book-of-r-for-time-series.readthedocs.io/en/latest/src/installr.html) or [on Youtube](https://www.youtube.com/watch?v=cX532N_XLIs)\n",
    "- in this case we use `python` with its `pandas` package\n",
    "\n",
    "![python](python.jpg) \n",
    "![jupyter notebook](jupyter.png) \n",
    "![R](rlogo.jpg) \n",
    "![GitHub](github.png) \n"
   ]
  },
  {
   "cell_type": "markdown",
   "metadata": {
    "nbpresent": {
     "id": "8bf405c9-b409-466a-9f6e-7060ba853493"
    },
    "slideshow": {
     "slide_type": "notes"
    }
   },
   "source": [
    "Kami menggunakan `Python-Pandas` karena `Pandas` adalah `python library` yang lengkap, mudah digunakan, dan seperti halnya `R`, `Pandas` memiliki basis pengguna yang sangat banyak dan berkomitmen untuk membagikan ilmu dan pengetahuannya. Karena ini, Anda dapat menemukan dengan mudah berbagai tutorial berbasis teks atau video di internet. Sebelum menggunakannya, maka Anda akan perlu mengunduh dan menginstalasi `Python` dan `Pandas` yang kami tulis dalam tutorial terpisah.\n",
    "\n",
    "Tutorial ini akan terkait dengan: \n",
    "\n",
    "- artikel kami berjudul\" `Using hydrochemistry and simple visualisation to differentiate groundwater samples`\n",
    "- penulis: Dasapta Erwin Irawan, Arif Susanto, Prihadi Sumintadireja, Budi Brahmantyo, Deny Juanda Puradimaja\n",
    "- event: ITB International Geothermal Workshop ITB\n",
    "- organizer: Faculty of Mining and Petroleum Engineering\n",
    "- references: \n",
    "\n",
    "    - [Codebasics Youtube Channel](https://www.youtube.com/channel/UCh9nVJoWXmFb7sLApWGcLPQ) \n",
    "    - [Pandas 0.22.0 documentation](https://pandas.pydata.org/pandas-docs/stable/)\n",
    "    - [A little book of Python for multivariate analysis](http://python-for-multivariate-analysis.readthedocs.io/)\n",
    "    - [Sebastian Raschka's PCA tutorial](http://sebastianraschka.com/Articles/2015_pca_in_3_steps.html)\n",
    "    - [Jason Brownlee's MachineLearningMastery Blog](https://machinelearningmastery.com/visualize-machine-learning-data-python-pandas/)\n",
    "    - [Jupyter Notebook documentation](http://jupyter-notebook.readthedocs.io/)"
   ]
  },
  {
   "cell_type": "markdown",
   "metadata": {
    "nbpresent": {
     "id": "04e35d15-6168-4c91-8607-449a41861d1a"
    },
    "slideshow": {
     "slide_type": "slide"
    }
   },
   "source": [
    "# loading libraries\n",
    "\n",
    "we will use the following libraries: \n",
    "- `pandas` and `numpy` for numerical calculation, \n",
    "- `matplotlib`and `seaborn` for plotting, and \n",
    "- `scikitlearn` for the PCA and other machine learning techniques."
   ]
  },
  {
   "cell_type": "code",
   "execution_count": 74,
   "metadata": {
    "collapsed": false,
    "nbpresent": {
     "id": "6a0db77a-3cff-4d9e-9a03-731084f2d0ba"
    },
    "slideshow": {
     "slide_type": "subslide"
    }
   },
   "outputs": [],
   "source": [
    "import pandas as pd # loading Pandas on to memory\n",
    "from pandas.tools.plotting import scatter_matrix\n",
    "import numpy as np # loading Numpy library on to memory\n",
    "import matplotlib.pyplot as plt # loading plotting library on to memory\n",
    "%matplotlib inline\n",
    "import seaborn as sns # loading seaborn library\n",
    "# loading some functions from sklearn\n",
    "from sklearn.preprocessing import scale \n",
    "from sklearn.decomposition import PCA\n",
    "from sklearn.discriminant_analysis import LinearDiscriminantAnalysis\n",
    "from scipy import stats"
   ]
  },
  {
   "cell_type": "markdown",
   "metadata": {
    "nbpresent": {
     "id": "1b9556c2-6414-420d-beb8-98e54bc67061"
    },
    "slideshow": {
     "slide_type": "slide"
    }
   },
   "source": [
    "# data description\n",
    "\n",
    "we use:\n",
    "\n",
    "- `describe()` \n",
    "- `boxplot` \n",
    "- `scatter plot matrix`"
   ]
  },
  {
   "cell_type": "markdown",
   "metadata": {
    "nbpresent": {
     "id": "717c140a-46ac-48ae-b735-3012d7a12049"
    },
    "slideshow": {
     "slide_type": "notes"
    }
   },
   "source": [
    "# Deskripsi data \n",
    "\n",
    "Kami menggunakan fungsi describe() dan boxplot untuk mengevaluasi data. Selain itu scatter plot matrix juga digunakan untuk mengetahui korelasi antar parameter."
   ]
  },
  {
   "cell_type": "code",
   "execution_count": 11,
   "metadata": {
    "collapsed": true,
    "nbpresent": {
     "id": "0520781b-79c4-45be-893d-895182f60a6e"
    },
    "slideshow": {
     "slide_type": "subslide"
    }
   },
   "outputs": [],
   "source": [
    "df = pd.read_csv('data_arifs_2.csv') # loading data"
   ]
  },
  {
   "cell_type": "markdown",
   "metadata": {
    "slideshow": {
     "slide_type": "subslide"
    }
   },
   "source": [
    "## head and tail\n",
    "\n",
    "- we could see the first 5 lines using `foo.head()` and the last 5 lines using `foo.tail()`.  \n",
    "- we need to see the type of data using `type(foo)` command.\n",
    "- checking the dimension or shape of the data (sum of rows and columns) using `foo.shape` command.\n",
    "- Change `foo` with your own data frame."
   ]
  },
  {
   "cell_type": "code",
   "execution_count": 12,
   "metadata": {
    "collapsed": false,
    "nbpresent": {
     "id": "f4672e50-4a8c-42ad-8ea1-12c8340daf41"
    },
    "slideshow": {
     "slide_type": "subslide"
    }
   },
   "outputs": [
    {
     "data": {
      "text/html": [
       "<div>\n",
       "<table border=\"1\" class=\"dataframe\">\n",
       "  <thead>\n",
       "    <tr style=\"text-align: right;\">\n",
       "      <th></th>\n",
       "      <th>sample</th>\n",
       "      <th>litho</th>\n",
       "      <th>elev</th>\n",
       "      <th>turb</th>\n",
       "      <th>col</th>\n",
       "      <th>dhl</th>\n",
       "      <th>tds</th>\n",
       "      <th>ph</th>\n",
       "      <th>hard</th>\n",
       "      <th>ca</th>\n",
       "      <th>...</th>\n",
       "      <th>na</th>\n",
       "      <th>li</th>\n",
       "      <th>nh4</th>\n",
       "      <th>co3</th>\n",
       "      <th>hco3</th>\n",
       "      <th>cl</th>\n",
       "      <th>so4</th>\n",
       "      <th>no2</th>\n",
       "      <th>no3</th>\n",
       "      <th>source</th>\n",
       "    </tr>\n",
       "  </thead>\n",
       "  <tbody>\n",
       "    <tr>\n",
       "      <th>0</th>\n",
       "      <td>Pang1</td>\n",
       "      <td>volc</td>\n",
       "      <td>850</td>\n",
       "      <td>0.6</td>\n",
       "      <td>0</td>\n",
       "      <td>98</td>\n",
       "      <td>68</td>\n",
       "      <td>6.9</td>\n",
       "      <td>45.4</td>\n",
       "      <td>13.9</td>\n",
       "      <td>...</td>\n",
       "      <td>9.7</td>\n",
       "      <td>0.0</td>\n",
       "      <td>0.5</td>\n",
       "      <td>0.00</td>\n",
       "      <td>76.3</td>\n",
       "      <td>3.5</td>\n",
       "      <td>0.00</td>\n",
       "      <td>0.0</td>\n",
       "      <td>0.3</td>\n",
       "      <td>Susanto (2017)</td>\n",
       "    </tr>\n",
       "    <tr>\n",
       "      <th>1</th>\n",
       "      <td>Pang2</td>\n",
       "      <td>volc</td>\n",
       "      <td>850</td>\n",
       "      <td>6.1</td>\n",
       "      <td>24</td>\n",
       "      <td>91</td>\n",
       "      <td>60</td>\n",
       "      <td>6.8</td>\n",
       "      <td>42.1</td>\n",
       "      <td>15.8</td>\n",
       "      <td>...</td>\n",
       "      <td>9.2</td>\n",
       "      <td>0.0</td>\n",
       "      <td>0.3</td>\n",
       "      <td>0.00</td>\n",
       "      <td>69.5</td>\n",
       "      <td>5.1</td>\n",
       "      <td>1.40</td>\n",
       "      <td>0.0</td>\n",
       "      <td>0.0</td>\n",
       "      <td>Irawan et al. (2015)</td>\n",
       "    </tr>\n",
       "    <tr>\n",
       "      <th>2</th>\n",
       "      <td>Bdg1</td>\n",
       "      <td>volc</td>\n",
       "      <td>700</td>\n",
       "      <td>0.5</td>\n",
       "      <td>0</td>\n",
       "      <td>210</td>\n",
       "      <td>200</td>\n",
       "      <td>6.0</td>\n",
       "      <td>55.0</td>\n",
       "      <td>14.2</td>\n",
       "      <td>...</td>\n",
       "      <td>10.1</td>\n",
       "      <td>0.0</td>\n",
       "      <td>0.8</td>\n",
       "      <td>0.05</td>\n",
       "      <td>72.0</td>\n",
       "      <td>110.0</td>\n",
       "      <td>0.08</td>\n",
       "      <td>0.1</td>\n",
       "      <td>1.2</td>\n",
       "      <td>Irawan et al. (2015)</td>\n",
       "    </tr>\n",
       "    <tr>\n",
       "      <th>3</th>\n",
       "      <td>Bdg2</td>\n",
       "      <td>volc</td>\n",
       "      <td>700</td>\n",
       "      <td>0.4</td>\n",
       "      <td>0</td>\n",
       "      <td>230</td>\n",
       "      <td>200</td>\n",
       "      <td>6.0</td>\n",
       "      <td>53.0</td>\n",
       "      <td>13.9</td>\n",
       "      <td>...</td>\n",
       "      <td>10.2</td>\n",
       "      <td>0.0</td>\n",
       "      <td>0.8</td>\n",
       "      <td>0.04</td>\n",
       "      <td>73.0</td>\n",
       "      <td>112.0</td>\n",
       "      <td>0.09</td>\n",
       "      <td>0.2</td>\n",
       "      <td>1.1</td>\n",
       "      <td>Irawan et al. (2015)</td>\n",
       "    </tr>\n",
       "    <tr>\n",
       "      <th>4</th>\n",
       "      <td>Bdg3</td>\n",
       "      <td>volc</td>\n",
       "      <td>625</td>\n",
       "      <td>0.4</td>\n",
       "      <td>0</td>\n",
       "      <td>240</td>\n",
       "      <td>210</td>\n",
       "      <td>6.3</td>\n",
       "      <td>54.0</td>\n",
       "      <td>14.0</td>\n",
       "      <td>...</td>\n",
       "      <td>9.5</td>\n",
       "      <td>0.0</td>\n",
       "      <td>0.9</td>\n",
       "      <td>0.10</td>\n",
       "      <td>73.5</td>\n",
       "      <td>121.0</td>\n",
       "      <td>0.07</td>\n",
       "      <td>0.2</td>\n",
       "      <td>1.2</td>\n",
       "      <td>Irawan et al. (2015)</td>\n",
       "    </tr>\n",
       "  </tbody>\n",
       "</table>\n",
       "<p>5 rows × 24 columns</p>\n",
       "</div>"
      ],
      "text/plain": [
       "  sample litho  elev  turb  col  dhl  tds   ph  hard    ca  \\\n",
       "0  Pang1  volc   850   0.6    0   98   68  6.9  45.4  13.9   \n",
       "1  Pang2  volc   850   6.1   24   91   60  6.8  42.1  15.8   \n",
       "2   Bdg1  volc   700   0.5    0  210  200  6.0  55.0  14.2   \n",
       "3   Bdg2  volc   700   0.4    0  230  200  6.0  53.0  13.9   \n",
       "4   Bdg3  volc   625   0.4    0  240  210  6.3  54.0  14.0   \n",
       "\n",
       "           ...             na   li  nh4   co3  hco3     cl   so4  no2  no3  \\\n",
       "0          ...            9.7  0.0  0.5  0.00  76.3    3.5  0.00  0.0  0.3   \n",
       "1          ...            9.2  0.0  0.3  0.00  69.5    5.1  1.40  0.0  0.0   \n",
       "2          ...           10.1  0.0  0.8  0.05  72.0  110.0  0.08  0.1  1.2   \n",
       "3          ...           10.2  0.0  0.8  0.04  73.0  112.0  0.09  0.2  1.1   \n",
       "4          ...            9.5  0.0  0.9  0.10  73.5  121.0  0.07  0.2  1.2   \n",
       "\n",
       "                 source  \n",
       "0        Susanto (2017)  \n",
       "1  Irawan et al. (2015)  \n",
       "2  Irawan et al. (2015)  \n",
       "3  Irawan et al. (2015)  \n",
       "4  Irawan et al. (2015)  \n",
       "\n",
       "[5 rows x 24 columns]"
      ]
     },
     "execution_count": 12,
     "metadata": {},
     "output_type": "execute_result"
    }
   ],
   "source": [
    "df.head() # showing first 5 rows"
   ]
  },
  {
   "cell_type": "code",
   "execution_count": 13,
   "metadata": {
    "collapsed": false,
    "nbpresent": {
     "id": "d0fa239a-ad7c-4570-98bd-74345718f57b"
    },
    "slideshow": {
     "slide_type": "subslide"
    }
   },
   "outputs": [
    {
     "data": {
      "text/html": [
       "<div>\n",
       "<table border=\"1\" class=\"dataframe\">\n",
       "  <thead>\n",
       "    <tr style=\"text-align: right;\">\n",
       "      <th></th>\n",
       "      <th>sample</th>\n",
       "      <th>litho</th>\n",
       "      <th>elev</th>\n",
       "      <th>turb</th>\n",
       "      <th>col</th>\n",
       "      <th>dhl</th>\n",
       "      <th>tds</th>\n",
       "      <th>ph</th>\n",
       "      <th>hard</th>\n",
       "      <th>ca</th>\n",
       "      <th>...</th>\n",
       "      <th>na</th>\n",
       "      <th>li</th>\n",
       "      <th>nh4</th>\n",
       "      <th>co3</th>\n",
       "      <th>hco3</th>\n",
       "      <th>cl</th>\n",
       "      <th>so4</th>\n",
       "      <th>no2</th>\n",
       "      <th>no3</th>\n",
       "      <th>source</th>\n",
       "    </tr>\n",
       "  </thead>\n",
       "  <tbody>\n",
       "    <tr>\n",
       "      <th>15</th>\n",
       "      <td>Indra1</td>\n",
       "      <td>alluv</td>\n",
       "      <td>8</td>\n",
       "      <td>2.0</td>\n",
       "      <td>0</td>\n",
       "      <td>1200</td>\n",
       "      <td>1180</td>\n",
       "      <td>6.1</td>\n",
       "      <td>81.0</td>\n",
       "      <td>10.1</td>\n",
       "      <td>...</td>\n",
       "      <td>6.1</td>\n",
       "      <td>0.0</td>\n",
       "      <td>2.3</td>\n",
       "      <td>4.3</td>\n",
       "      <td>91.0</td>\n",
       "      <td>890.0</td>\n",
       "      <td>1.2</td>\n",
       "      <td>0.6</td>\n",
       "      <td>2.1</td>\n",
       "      <td>Irawan et al. (2016)</td>\n",
       "    </tr>\n",
       "    <tr>\n",
       "      <th>16</th>\n",
       "      <td>Indra2</td>\n",
       "      <td>alluv</td>\n",
       "      <td>8</td>\n",
       "      <td>2.1</td>\n",
       "      <td>0</td>\n",
       "      <td>1200</td>\n",
       "      <td>1150</td>\n",
       "      <td>6.1</td>\n",
       "      <td>80.0</td>\n",
       "      <td>9.8</td>\n",
       "      <td>...</td>\n",
       "      <td>6.2</td>\n",
       "      <td>0.0</td>\n",
       "      <td>2.2</td>\n",
       "      <td>4.4</td>\n",
       "      <td>92.3</td>\n",
       "      <td>880.0</td>\n",
       "      <td>1.1</td>\n",
       "      <td>0.6</td>\n",
       "      <td>2.2</td>\n",
       "      <td>Irawan et al. (2016)</td>\n",
       "    </tr>\n",
       "    <tr>\n",
       "      <th>17</th>\n",
       "      <td>Indra3</td>\n",
       "      <td>alluv</td>\n",
       "      <td>5</td>\n",
       "      <td>2.1</td>\n",
       "      <td>0</td>\n",
       "      <td>1250</td>\n",
       "      <td>1200</td>\n",
       "      <td>6.0</td>\n",
       "      <td>81.0</td>\n",
       "      <td>9.3</td>\n",
       "      <td>...</td>\n",
       "      <td>6.2</td>\n",
       "      <td>0.0</td>\n",
       "      <td>2.5</td>\n",
       "      <td>4.2</td>\n",
       "      <td>94.5</td>\n",
       "      <td>910.0</td>\n",
       "      <td>1.2</td>\n",
       "      <td>0.5</td>\n",
       "      <td>3.4</td>\n",
       "      <td>Irawan et al. (2016)</td>\n",
       "    </tr>\n",
       "    <tr>\n",
       "      <th>18</th>\n",
       "      <td>Indra4</td>\n",
       "      <td>alluv</td>\n",
       "      <td>4</td>\n",
       "      <td>2.0</td>\n",
       "      <td>0</td>\n",
       "      <td>1300</td>\n",
       "      <td>1250</td>\n",
       "      <td>6.0</td>\n",
       "      <td>82.0</td>\n",
       "      <td>9.6</td>\n",
       "      <td>...</td>\n",
       "      <td>6.3</td>\n",
       "      <td>0.0</td>\n",
       "      <td>2.5</td>\n",
       "      <td>4.4</td>\n",
       "      <td>95.4</td>\n",
       "      <td>920.0</td>\n",
       "      <td>1.5</td>\n",
       "      <td>0.7</td>\n",
       "      <td>3.4</td>\n",
       "      <td>Irawan et al. (2016)</td>\n",
       "    </tr>\n",
       "    <tr>\n",
       "      <th>19</th>\n",
       "      <td>Indra5</td>\n",
       "      <td>alluv</td>\n",
       "      <td>4</td>\n",
       "      <td>1.8</td>\n",
       "      <td>0</td>\n",
       "      <td>1300</td>\n",
       "      <td>1250</td>\n",
       "      <td>6.0</td>\n",
       "      <td>82.0</td>\n",
       "      <td>9.7</td>\n",
       "      <td>...</td>\n",
       "      <td>6.7</td>\n",
       "      <td>0.0</td>\n",
       "      <td>2.6</td>\n",
       "      <td>4.3</td>\n",
       "      <td>92.3</td>\n",
       "      <td>910.0</td>\n",
       "      <td>1.4</td>\n",
       "      <td>0.8</td>\n",
       "      <td>3.5</td>\n",
       "      <td>Irawan et al. (2016)</td>\n",
       "    </tr>\n",
       "  </tbody>\n",
       "</table>\n",
       "<p>5 rows × 24 columns</p>\n",
       "</div>"
      ],
      "text/plain": [
       "    sample  litho  elev  turb  col   dhl   tds   ph  hard    ca  \\\n",
       "15  Indra1  alluv     8   2.0    0  1200  1180  6.1  81.0  10.1   \n",
       "16  Indra2  alluv     8   2.1    0  1200  1150  6.1  80.0   9.8   \n",
       "17  Indra3  alluv     5   2.1    0  1250  1200  6.0  81.0   9.3   \n",
       "18  Indra4  alluv     4   2.0    0  1300  1250  6.0  82.0   9.6   \n",
       "19  Indra5  alluv     4   1.8    0  1300  1250  6.0  82.0   9.7   \n",
       "\n",
       "            ...            na   li  nh4  co3  hco3     cl  so4  no2  no3  \\\n",
       "15          ...           6.1  0.0  2.3  4.3  91.0  890.0  1.2  0.6  2.1   \n",
       "16          ...           6.2  0.0  2.2  4.4  92.3  880.0  1.1  0.6  2.2   \n",
       "17          ...           6.2  0.0  2.5  4.2  94.5  910.0  1.2  0.5  3.4   \n",
       "18          ...           6.3  0.0  2.5  4.4  95.4  920.0  1.5  0.7  3.4   \n",
       "19          ...           6.7  0.0  2.6  4.3  92.3  910.0  1.4  0.8  3.5   \n",
       "\n",
       "                  source  \n",
       "15  Irawan et al. (2016)  \n",
       "16  Irawan et al. (2016)  \n",
       "17  Irawan et al. (2016)  \n",
       "18  Irawan et al. (2016)  \n",
       "19  Irawan et al. (2016)  \n",
       "\n",
       "[5 rows x 24 columns]"
      ]
     },
     "execution_count": 13,
     "metadata": {},
     "output_type": "execute_result"
    }
   ],
   "source": [
    "df.tail() # showing last 5 rows"
   ]
  },
  {
   "cell_type": "code",
   "execution_count": 14,
   "metadata": {
    "collapsed": false,
    "nbpresent": {
     "id": "340c4fd9-b5a1-46ee-964b-19ceffca21ce"
    },
    "slideshow": {
     "slide_type": "skip"
    }
   },
   "outputs": [
    {
     "data": {
      "text/plain": [
       "pandas.core.frame.DataFrame"
      ]
     },
     "execution_count": 14,
     "metadata": {},
     "output_type": "execute_result"
    }
   ],
   "source": [
    "type(df)"
   ]
  },
  {
   "cell_type": "code",
   "execution_count": 15,
   "metadata": {
    "collapsed": false,
    "nbpresent": {
     "id": "b6ea4cb0-f333-41ad-ba64-2a66c53f7cc7"
    },
    "slideshow": {
     "slide_type": "skip"
    }
   },
   "outputs": [
    {
     "data": {
      "text/plain": [
       "(20, 24)"
      ]
     },
     "execution_count": 15,
     "metadata": {},
     "output_type": "execute_result"
    }
   ],
   "source": [
    "df.shape # table size showing number of (rows, columns)"
   ]
  },
  {
   "cell_type": "code",
   "execution_count": 16,
   "metadata": {
    "collapsed": false,
    "nbpresent": {
     "id": "00d528bb-12f8-4041-8dba-c4c9c9499a96"
    },
    "slideshow": {
     "slide_type": "subslide"
    }
   },
   "outputs": [
    {
     "data": {
      "text/html": [
       "<div>\n",
       "<table border=\"1\" class=\"dataframe\">\n",
       "  <thead>\n",
       "    <tr style=\"text-align: right;\">\n",
       "      <th></th>\n",
       "      <th>elev</th>\n",
       "      <th>turb</th>\n",
       "      <th>col</th>\n",
       "      <th>dhl</th>\n",
       "      <th>tds</th>\n",
       "      <th>ph</th>\n",
       "      <th>hard</th>\n",
       "      <th>ca</th>\n",
       "      <th>mg</th>\n",
       "      <th>fe3</th>\n",
       "      <th>...</th>\n",
       "      <th>k</th>\n",
       "      <th>na</th>\n",
       "      <th>li</th>\n",
       "      <th>nh4</th>\n",
       "      <th>co3</th>\n",
       "      <th>hco3</th>\n",
       "      <th>cl</th>\n",
       "      <th>so4</th>\n",
       "      <th>no2</th>\n",
       "      <th>no3</th>\n",
       "    </tr>\n",
       "  </thead>\n",
       "  <tbody>\n",
       "    <tr>\n",
       "      <th>count</th>\n",
       "      <td>20.000000</td>\n",
       "      <td>20.000000</td>\n",
       "      <td>20.000000</td>\n",
       "      <td>20.000000</td>\n",
       "      <td>20.000000</td>\n",
       "      <td>20.000000</td>\n",
       "      <td>20.000000</td>\n",
       "      <td>20.000000</td>\n",
       "      <td>20.000000</td>\n",
       "      <td>20.000000</td>\n",
       "      <td>...</td>\n",
       "      <td>20.000000</td>\n",
       "      <td>20.000000</td>\n",
       "      <td>20.0</td>\n",
       "      <td>20.000000</td>\n",
       "      <td>20.000000</td>\n",
       "      <td>20.000000</td>\n",
       "      <td>20.000000</td>\n",
       "      <td>20.000000</td>\n",
       "      <td>20.000000</td>\n",
       "      <td>20.000000</td>\n",
       "    </tr>\n",
       "    <tr>\n",
       "      <th>mean</th>\n",
       "      <td>484.950000</td>\n",
       "      <td>2.550000</td>\n",
       "      <td>1.200000</td>\n",
       "      <td>606.500000</td>\n",
       "      <td>572.400000</td>\n",
       "      <td>6.100000</td>\n",
       "      <td>74.725000</td>\n",
       "      <td>14.950000</td>\n",
       "      <td>1.065000</td>\n",
       "      <td>0.835000</td>\n",
       "      <td>...</td>\n",
       "      <td>2.990000</td>\n",
       "      <td>7.755000</td>\n",
       "      <td>0.0</td>\n",
       "      <td>1.160000</td>\n",
       "      <td>13.892500</td>\n",
       "      <td>81.165000</td>\n",
       "      <td>279.620000</td>\n",
       "      <td>0.464000</td>\n",
       "      <td>0.340000</td>\n",
       "      <td>1.310000</td>\n",
       "    </tr>\n",
       "    <tr>\n",
       "      <th>std</th>\n",
       "      <td>294.422267</td>\n",
       "      <td>2.551883</td>\n",
       "      <td>5.366563</td>\n",
       "      <td>420.275661</td>\n",
       "      <td>415.048431</td>\n",
       "      <td>0.279096</td>\n",
       "      <td>26.805398</td>\n",
       "      <td>4.439239</td>\n",
       "      <td>0.419618</td>\n",
       "      <td>0.198667</td>\n",
       "      <td>...</td>\n",
       "      <td>0.906642</td>\n",
       "      <td>2.123918</td>\n",
       "      <td>0.0</td>\n",
       "      <td>0.867179</td>\n",
       "      <td>40.204939</td>\n",
       "      <td>8.225332</td>\n",
       "      <td>372.257285</td>\n",
       "      <td>0.570571</td>\n",
       "      <td>0.216187</td>\n",
       "      <td>1.107344</td>\n",
       "    </tr>\n",
       "    <tr>\n",
       "      <th>min</th>\n",
       "      <td>4.000000</td>\n",
       "      <td>0.300000</td>\n",
       "      <td>0.000000</td>\n",
       "      <td>91.000000</td>\n",
       "      <td>60.000000</td>\n",
       "      <td>5.800000</td>\n",
       "      <td>42.100000</td>\n",
       "      <td>9.300000</td>\n",
       "      <td>0.600000</td>\n",
       "      <td>0.000000</td>\n",
       "      <td>...</td>\n",
       "      <td>1.600000</td>\n",
       "      <td>5.000000</td>\n",
       "      <td>0.0</td>\n",
       "      <td>0.100000</td>\n",
       "      <td>0.000000</td>\n",
       "      <td>69.500000</td>\n",
       "      <td>3.500000</td>\n",
       "      <td>0.000000</td>\n",
       "      <td>0.000000</td>\n",
       "      <td>0.000000</td>\n",
       "    </tr>\n",
       "    <tr>\n",
       "      <th>25%</th>\n",
       "      <td>437.000000</td>\n",
       "      <td>0.400000</td>\n",
       "      <td>0.000000</td>\n",
       "      <td>252.000000</td>\n",
       "      <td>210.000000</td>\n",
       "      <td>6.000000</td>\n",
       "      <td>53.750000</td>\n",
       "      <td>12.875000</td>\n",
       "      <td>0.800000</td>\n",
       "      <td>0.870000</td>\n",
       "      <td>...</td>\n",
       "      <td>2.300000</td>\n",
       "      <td>5.900000</td>\n",
       "      <td>0.0</td>\n",
       "      <td>0.300000</td>\n",
       "      <td>0.087500</td>\n",
       "      <td>74.825000</td>\n",
       "      <td>15.925000</td>\n",
       "      <td>0.080000</td>\n",
       "      <td>0.200000</td>\n",
       "      <td>0.300000</td>\n",
       "    </tr>\n",
       "    <tr>\n",
       "      <th>50%</th>\n",
       "      <td>597.500000</td>\n",
       "      <td>1.900000</td>\n",
       "      <td>0.000000</td>\n",
       "      <td>575.000000</td>\n",
       "      <td>547.500000</td>\n",
       "      <td>6.000000</td>\n",
       "      <td>67.500000</td>\n",
       "      <td>14.050000</td>\n",
       "      <td>0.900000</td>\n",
       "      <td>0.880000</td>\n",
       "      <td>...</td>\n",
       "      <td>2.850000</td>\n",
       "      <td>7.950000</td>\n",
       "      <td>0.0</td>\n",
       "      <td>1.000000</td>\n",
       "      <td>2.150000</td>\n",
       "      <td>79.100000</td>\n",
       "      <td>120.650000</td>\n",
       "      <td>0.085000</td>\n",
       "      <td>0.300000</td>\n",
       "      <td>1.200000</td>\n",
       "    </tr>\n",
       "    <tr>\n",
       "      <th>75%</th>\n",
       "      <td>606.250000</td>\n",
       "      <td>6.000000</td>\n",
       "      <td>0.000000</td>\n",
       "      <td>787.500000</td>\n",
       "      <td>745.000000</td>\n",
       "      <td>6.100000</td>\n",
       "      <td>86.500000</td>\n",
       "      <td>16.850000</td>\n",
       "      <td>1.200000</td>\n",
       "      <td>0.900000</td>\n",
       "      <td>...</td>\n",
       "      <td>3.600000</td>\n",
       "      <td>9.725000</td>\n",
       "      <td>0.0</td>\n",
       "      <td>1.675000</td>\n",
       "      <td>7.800000</td>\n",
       "      <td>86.500000</td>\n",
       "      <td>327.625000</td>\n",
       "      <td>1.125000</td>\n",
       "      <td>0.425000</td>\n",
       "      <td>1.575000</td>\n",
       "    </tr>\n",
       "    <tr>\n",
       "      <th>max</th>\n",
       "      <td>850.000000</td>\n",
       "      <td>6.500000</td>\n",
       "      <td>24.000000</td>\n",
       "      <td>1300.000000</td>\n",
       "      <td>1250.000000</td>\n",
       "      <td>6.900000</td>\n",
       "      <td>120.000000</td>\n",
       "      <td>23.000000</td>\n",
       "      <td>2.600000</td>\n",
       "      <td>0.920000</td>\n",
       "      <td>...</td>\n",
       "      <td>4.400000</td>\n",
       "      <td>10.300000</td>\n",
       "      <td>0.0</td>\n",
       "      <td>2.600000</td>\n",
       "      <td>182.000000</td>\n",
       "      <td>95.400000</td>\n",
       "      <td>920.000000</td>\n",
       "      <td>1.500000</td>\n",
       "      <td>0.800000</td>\n",
       "      <td>3.500000</td>\n",
       "    </tr>\n",
       "  </tbody>\n",
       "</table>\n",
       "<p>8 rows × 21 columns</p>\n",
       "</div>"
      ],
      "text/plain": [
       "             elev       turb        col          dhl          tds         ph  \\\n",
       "count   20.000000  20.000000  20.000000    20.000000    20.000000  20.000000   \n",
       "mean   484.950000   2.550000   1.200000   606.500000   572.400000   6.100000   \n",
       "std    294.422267   2.551883   5.366563   420.275661   415.048431   0.279096   \n",
       "min      4.000000   0.300000   0.000000    91.000000    60.000000   5.800000   \n",
       "25%    437.000000   0.400000   0.000000   252.000000   210.000000   6.000000   \n",
       "50%    597.500000   1.900000   0.000000   575.000000   547.500000   6.000000   \n",
       "75%    606.250000   6.000000   0.000000   787.500000   745.000000   6.100000   \n",
       "max    850.000000   6.500000  24.000000  1300.000000  1250.000000   6.900000   \n",
       "\n",
       "             hard         ca         mg        fe3    ...              k  \\\n",
       "count   20.000000  20.000000  20.000000  20.000000    ...      20.000000   \n",
       "mean    74.725000  14.950000   1.065000   0.835000    ...       2.990000   \n",
       "std     26.805398   4.439239   0.419618   0.198667    ...       0.906642   \n",
       "min     42.100000   9.300000   0.600000   0.000000    ...       1.600000   \n",
       "25%     53.750000  12.875000   0.800000   0.870000    ...       2.300000   \n",
       "50%     67.500000  14.050000   0.900000   0.880000    ...       2.850000   \n",
       "75%     86.500000  16.850000   1.200000   0.900000    ...       3.600000   \n",
       "max    120.000000  23.000000   2.600000   0.920000    ...       4.400000   \n",
       "\n",
       "              na    li        nh4         co3       hco3          cl  \\\n",
       "count  20.000000  20.0  20.000000   20.000000  20.000000   20.000000   \n",
       "mean    7.755000   0.0   1.160000   13.892500  81.165000  279.620000   \n",
       "std     2.123918   0.0   0.867179   40.204939   8.225332  372.257285   \n",
       "min     5.000000   0.0   0.100000    0.000000  69.500000    3.500000   \n",
       "25%     5.900000   0.0   0.300000    0.087500  74.825000   15.925000   \n",
       "50%     7.950000   0.0   1.000000    2.150000  79.100000  120.650000   \n",
       "75%     9.725000   0.0   1.675000    7.800000  86.500000  327.625000   \n",
       "max    10.300000   0.0   2.600000  182.000000  95.400000  920.000000   \n",
       "\n",
       "             so4        no2        no3  \n",
       "count  20.000000  20.000000  20.000000  \n",
       "mean    0.464000   0.340000   1.310000  \n",
       "std     0.570571   0.216187   1.107344  \n",
       "min     0.000000   0.000000   0.000000  \n",
       "25%     0.080000   0.200000   0.300000  \n",
       "50%     0.085000   0.300000   1.200000  \n",
       "75%     1.125000   0.425000   1.575000  \n",
       "max     1.500000   0.800000   3.500000  \n",
       "\n",
       "[8 rows x 21 columns]"
      ]
     },
     "execution_count": 16,
     "metadata": {},
     "output_type": "execute_result"
    }
   ],
   "source": [
    "df.describe() # selecting columns in number and describe basics stats"
   ]
  },
  {
   "cell_type": "code",
   "execution_count": 17,
   "metadata": {
    "collapsed": false,
    "nbpresent": {
     "id": "1b82ffd6-a57e-4472-b97a-a3cf7a513d7b"
    },
    "slideshow": {
     "slide_type": "subslide"
    }
   },
   "outputs": [
    {
     "data": {
      "text/plain": [
       "['sample',\n",
       " 'litho',\n",
       " 'elev',\n",
       " 'turb',\n",
       " 'col',\n",
       " 'dhl',\n",
       " 'tds',\n",
       " 'ph',\n",
       " 'hard',\n",
       " 'ca',\n",
       " 'mg',\n",
       " 'fe3',\n",
       " 'mn',\n",
       " 'k',\n",
       " 'na',\n",
       " 'li',\n",
       " 'nh4',\n",
       " 'co3',\n",
       " 'hco3',\n",
       " 'cl',\n",
       " 'so4',\n",
       " 'no2',\n",
       " 'no3',\n",
       " 'source']"
      ]
     },
     "execution_count": 17,
     "metadata": {},
     "output_type": "execute_result"
    }
   ],
   "source": [
    "list(df)"
   ]
  },
  {
   "cell_type": "markdown",
   "metadata": {
    "nbpresent": {
     "id": "cd9b4ef4-22c8-4af9-b2c6-1e577a15a391"
    },
    "slideshow": {
     "slide_type": "slide"
    }
   },
   "source": [
    "# creating boxplot\n",
    "\n",
    "- here we create a boxplot to visualize the distribution of dataset.\n",
    "- we're going to make two kinds of layout. "
   ]
  },
  {
   "cell_type": "code",
   "execution_count": 18,
   "metadata": {
    "collapsed": false,
    "nbpresent": {
     "id": "40afa030-2f8c-4a11-b15b-010972e9398e"
    },
    "scrolled": true,
    "slideshow": {
     "slide_type": "subslide"
    }
   },
   "outputs": [],
   "source": [
    "df.boxplot(figsize=[20,10]) # creating boxplot\n",
    "plt.savefig('box.png')"
   ]
  },
  {
   "cell_type": "code",
   "execution_count": 19,
   "metadata": {
    "collapsed": false,
    "nbpresent": {
     "id": "90b7e561-ca4b-47f2-bf4d-7b8cab2a392e"
    },
    "slideshow": {
     "slide_type": "subslide"
    }
   },
   "outputs": [
    {
     "data": {
      "image/png": "[encoded data removed]",
      "text/plain": [
       "<matplotlib.figure.Figure at 0x1a1fced160>"
      ]
     },
     "metadata": {},
     "output_type": "display_data"
    }
   ],
   "source": [
    "df.boxplot(by=['litho'], figsize=[30,15]) # creating boxplot grouped by lithology\n",
    "plt.savefig('panel_box.png')"
   ]
  },
  {
   "cell_type": "markdown",
   "metadata": {
    "nbpresent": {
     "id": "0670d0c7-a3bb-4796-8777-a858935c4db8"
    },
    "slideshow": {
     "slide_type": "slide"
    }
   },
   "source": [
    "# Correlation matrix \n",
    "\n",
    "## omitting some non-numeric columns\n",
    "\n",
    "In the PCA process, we will not be using non-numerical columns: `sample`, `litho`, `turb`, `col`, and `source`. Also, `li` (Lithium) column contains zeros. We will drop them. First we're going to see the correlation matrix. Here we build the matrix in table form and in plot form. "
   ]
  },
  {
   "cell_type": "code",
   "execution_count": 33,
   "metadata": {
    "collapsed": false,
    "nbpresent": {
     "id": "2e5c108c-6014-45b2-b9d6-dc5ad5964a28"
    },
    "slideshow": {
     "slide_type": "subslide"
    }
   },
   "outputs": [
    {
     "data": {
      "text/plain": [
       "['elev',\n",
       " 'dhl',\n",
       " 'tds',\n",
       " 'ph',\n",
       " 'hard',\n",
       " 'ca',\n",
       " 'mg',\n",
       " 'fe3',\n",
       " 'mn',\n",
       " 'k',\n",
       " 'na',\n",
       " 'nh4',\n",
       " 'co3',\n",
       " 'hco3',\n",
       " 'cl',\n",
       " 'so4',\n",
       " 'no2',\n",
       " 'no3']"
      ]
     },
     "execution_count": 33,
     "metadata": {},
     "output_type": "execute_result"
    }
   ],
   "source": [
    "df_cor = df.drop(['sample', 'litho', 'turb', 'col', 'source', 'li'], axis=1)\n",
    "df_cor\n",
    "list(df_cor)"
   ]
  },
  {
   "cell_type": "code",
   "execution_count": 34,
   "metadata": {
    "collapsed": false,
    "slideshow": {
     "slide_type": "subslide"
    }
   },
   "outputs": [
    {
     "data": {
      "text/html": [
       "<div>\n",
       "<table border=\"1\" class=\"dataframe\">\n",
       "  <thead>\n",
       "    <tr style=\"text-align: right;\">\n",
       "      <th></th>\n",
       "      <th>elev</th>\n",
       "      <th>dhl</th>\n",
       "      <th>tds</th>\n",
       "      <th>ph</th>\n",
       "      <th>hard</th>\n",
       "      <th>ca</th>\n",
       "      <th>mg</th>\n",
       "      <th>fe3</th>\n",
       "      <th>mn</th>\n",
       "      <th>k</th>\n",
       "      <th>na</th>\n",
       "      <th>nh4</th>\n",
       "      <th>co3</th>\n",
       "      <th>hco3</th>\n",
       "      <th>cl</th>\n",
       "      <th>so4</th>\n",
       "      <th>no2</th>\n",
       "      <th>no3</th>\n",
       "    </tr>\n",
       "  </thead>\n",
       "  <tbody>\n",
       "    <tr>\n",
       "      <th>0</th>\n",
       "      <td>850</td>\n",
       "      <td>98</td>\n",
       "      <td>68</td>\n",
       "      <td>6.9</td>\n",
       "      <td>45.4</td>\n",
       "      <td>13.9</td>\n",
       "      <td>2.6</td>\n",
       "      <td>0.00</td>\n",
       "      <td>0.01</td>\n",
       "      <td>2.3</td>\n",
       "      <td>9.7</td>\n",
       "      <td>0.5</td>\n",
       "      <td>0.00</td>\n",
       "      <td>76.3</td>\n",
       "      <td>3.5</td>\n",
       "      <td>0.00</td>\n",
       "      <td>0.0</td>\n",
       "      <td>0.3</td>\n",
       "    </tr>\n",
       "    <tr>\n",
       "      <th>1</th>\n",
       "      <td>850</td>\n",
       "      <td>91</td>\n",
       "      <td>60</td>\n",
       "      <td>6.8</td>\n",
       "      <td>42.1</td>\n",
       "      <td>15.8</td>\n",
       "      <td>0.6</td>\n",
       "      <td>0.86</td>\n",
       "      <td>0.24</td>\n",
       "      <td>1.6</td>\n",
       "      <td>9.2</td>\n",
       "      <td>0.3</td>\n",
       "      <td>0.00</td>\n",
       "      <td>69.5</td>\n",
       "      <td>5.1</td>\n",
       "      <td>1.40</td>\n",
       "      <td>0.0</td>\n",
       "      <td>0.0</td>\n",
       "    </tr>\n",
       "    <tr>\n",
       "      <th>2</th>\n",
       "      <td>700</td>\n",
       "      <td>210</td>\n",
       "      <td>200</td>\n",
       "      <td>6.0</td>\n",
       "      <td>55.0</td>\n",
       "      <td>14.2</td>\n",
       "      <td>0.8</td>\n",
       "      <td>0.90</td>\n",
       "      <td>0.21</td>\n",
       "      <td>2.1</td>\n",
       "      <td>10.1</td>\n",
       "      <td>0.8</td>\n",
       "      <td>0.05</td>\n",
       "      <td>72.0</td>\n",
       "      <td>110.0</td>\n",
       "      <td>0.08</td>\n",
       "      <td>0.1</td>\n",
       "      <td>1.2</td>\n",
       "    </tr>\n",
       "    <tr>\n",
       "      <th>3</th>\n",
       "      <td>700</td>\n",
       "      <td>230</td>\n",
       "      <td>200</td>\n",
       "      <td>6.0</td>\n",
       "      <td>53.0</td>\n",
       "      <td>13.9</td>\n",
       "      <td>1.2</td>\n",
       "      <td>0.78</td>\n",
       "      <td>0.22</td>\n",
       "      <td>2.0</td>\n",
       "      <td>10.2</td>\n",
       "      <td>0.8</td>\n",
       "      <td>0.04</td>\n",
       "      <td>73.0</td>\n",
       "      <td>112.0</td>\n",
       "      <td>0.09</td>\n",
       "      <td>0.2</td>\n",
       "      <td>1.1</td>\n",
       "    </tr>\n",
       "    <tr>\n",
       "      <th>4</th>\n",
       "      <td>625</td>\n",
       "      <td>240</td>\n",
       "      <td>210</td>\n",
       "      <td>6.3</td>\n",
       "      <td>54.0</td>\n",
       "      <td>14.0</td>\n",
       "      <td>1.3</td>\n",
       "      <td>0.88</td>\n",
       "      <td>0.23</td>\n",
       "      <td>2.3</td>\n",
       "      <td>9.5</td>\n",
       "      <td>0.9</td>\n",
       "      <td>0.10</td>\n",
       "      <td>73.5</td>\n",
       "      <td>121.0</td>\n",
       "      <td>0.07</td>\n",
       "      <td>0.2</td>\n",
       "      <td>1.2</td>\n",
       "    </tr>\n",
       "    <tr>\n",
       "      <th>5</th>\n",
       "      <td>600</td>\n",
       "      <td>256</td>\n",
       "      <td>210</td>\n",
       "      <td>6.2</td>\n",
       "      <td>54.0</td>\n",
       "      <td>14.1</td>\n",
       "      <td>1.2</td>\n",
       "      <td>0.90</td>\n",
       "      <td>0.23</td>\n",
       "      <td>2.3</td>\n",
       "      <td>9.5</td>\n",
       "      <td>1.1</td>\n",
       "      <td>0.09</td>\n",
       "      <td>75.0</td>\n",
       "      <td>120.3</td>\n",
       "      <td>0.08</td>\n",
       "      <td>0.3</td>\n",
       "      <td>1.3</td>\n",
       "    </tr>\n",
       "    <tr>\n",
       "      <th>6</th>\n",
       "      <td>600</td>\n",
       "      <td>300</td>\n",
       "      <td>280</td>\n",
       "      <td>6.0</td>\n",
       "      <td>55.0</td>\n",
       "      <td>14.3</td>\n",
       "      <td>1.4</td>\n",
       "      <td>0.89</td>\n",
       "      <td>0.24</td>\n",
       "      <td>2.4</td>\n",
       "      <td>9.6</td>\n",
       "      <td>1.2</td>\n",
       "      <td>0.10</td>\n",
       "      <td>75.0</td>\n",
       "      <td>125.6</td>\n",
       "      <td>0.08</td>\n",
       "      <td>0.3</td>\n",
       "      <td>1.2</td>\n",
       "    </tr>\n",
       "    <tr>\n",
       "      <th>7</th>\n",
       "      <td>590</td>\n",
       "      <td>325</td>\n",
       "      <td>285</td>\n",
       "      <td>6.0</td>\n",
       "      <td>53.0</td>\n",
       "      <td>14.5</td>\n",
       "      <td>0.9</td>\n",
       "      <td>0.87</td>\n",
       "      <td>0.25</td>\n",
       "      <td>2.5</td>\n",
       "      <td>9.8</td>\n",
       "      <td>1.5</td>\n",
       "      <td>0.10</td>\n",
       "      <td>76.5</td>\n",
       "      <td>135.4</td>\n",
       "      <td>0.20</td>\n",
       "      <td>0.4</td>\n",
       "      <td>1.4</td>\n",
       "    </tr>\n",
       "    <tr>\n",
       "      <th>8</th>\n",
       "      <td>590</td>\n",
       "      <td>480</td>\n",
       "      <td>410</td>\n",
       "      <td>6.0</td>\n",
       "      <td>53.0</td>\n",
       "      <td>14.0</td>\n",
       "      <td>0.8</td>\n",
       "      <td>0.85</td>\n",
       "      <td>0.24</td>\n",
       "      <td>2.3</td>\n",
       "      <td>9.8</td>\n",
       "      <td>1.5</td>\n",
       "      <td>0.08</td>\n",
       "      <td>77.0</td>\n",
       "      <td>143.5</td>\n",
       "      <td>0.20</td>\n",
       "      <td>0.4</td>\n",
       "      <td>1.3</td>\n",
       "    </tr>\n",
       "    <tr>\n",
       "      <th>9</th>\n",
       "      <td>580</td>\n",
       "      <td>550</td>\n",
       "      <td>515</td>\n",
       "      <td>5.8</td>\n",
       "      <td>54.0</td>\n",
       "      <td>13.8</td>\n",
       "      <td>1.1</td>\n",
       "      <td>0.89</td>\n",
       "      <td>0.23</td>\n",
       "      <td>2.2</td>\n",
       "      <td>10.3</td>\n",
       "      <td>1.4</td>\n",
       "      <td>0.09</td>\n",
       "      <td>74.3</td>\n",
       "      <td>134.3</td>\n",
       "      <td>0.30</td>\n",
       "      <td>0.4</td>\n",
       "      <td>1.3</td>\n",
       "    </tr>\n",
       "    <tr>\n",
       "      <th>10</th>\n",
       "      <td>600</td>\n",
       "      <td>600</td>\n",
       "      <td>580</td>\n",
       "      <td>5.8</td>\n",
       "      <td>120.0</td>\n",
       "      <td>21.0</td>\n",
       "      <td>1.2</td>\n",
       "      <td>0.90</td>\n",
       "      <td>0.25</td>\n",
       "      <td>3.2</td>\n",
       "      <td>5.3</td>\n",
       "      <td>0.1</td>\n",
       "      <td>18.00</td>\n",
       "      <td>82.0</td>\n",
       "      <td>11.2</td>\n",
       "      <td>0.06</td>\n",
       "      <td>0.2</td>\n",
       "      <td>0.2</td>\n",
       "    </tr>\n",
       "    <tr>\n",
       "      <th>11</th>\n",
       "      <td>600</td>\n",
       "      <td>620</td>\n",
       "      <td>600</td>\n",
       "      <td>6.0</td>\n",
       "      <td>100.0</td>\n",
       "      <td>23.0</td>\n",
       "      <td>1.2</td>\n",
       "      <td>0.90</td>\n",
       "      <td>0.24</td>\n",
       "      <td>3.3</td>\n",
       "      <td>5.3</td>\n",
       "      <td>0.2</td>\n",
       "      <td>19.10</td>\n",
       "      <td>81.2</td>\n",
       "      <td>13.1</td>\n",
       "      <td>0.08</td>\n",
       "      <td>0.2</td>\n",
       "      <td>0.2</td>\n",
       "    </tr>\n",
       "    <tr>\n",
       "      <th>12</th>\n",
       "      <td>590</td>\n",
       "      <td>630</td>\n",
       "      <td>600</td>\n",
       "      <td>6.0</td>\n",
       "      <td>120.0</td>\n",
       "      <td>23.0</td>\n",
       "      <td>1.1</td>\n",
       "      <td>0.91</td>\n",
       "      <td>0.25</td>\n",
       "      <td>3.4</td>\n",
       "      <td>5.2</td>\n",
       "      <td>0.3</td>\n",
       "      <td>182.00</td>\n",
       "      <td>83.5</td>\n",
       "      <td>14.5</td>\n",
       "      <td>0.08</td>\n",
       "      <td>0.3</td>\n",
       "      <td>0.3</td>\n",
       "    </tr>\n",
       "    <tr>\n",
       "      <th>13</th>\n",
       "      <td>595</td>\n",
       "      <td>650</td>\n",
       "      <td>610</td>\n",
       "      <td>6.0</td>\n",
       "      <td>110.0</td>\n",
       "      <td>21.0</td>\n",
       "      <td>0.8</td>\n",
       "      <td>0.92</td>\n",
       "      <td>0.23</td>\n",
       "      <td>3.2</td>\n",
       "      <td>5.0</td>\n",
       "      <td>0.3</td>\n",
       "      <td>18.30</td>\n",
       "      <td>85.0</td>\n",
       "      <td>16.4</td>\n",
       "      <td>0.08</td>\n",
       "      <td>0.3</td>\n",
       "      <td>0.3</td>\n",
       "    </tr>\n",
       "    <tr>\n",
       "      <th>14</th>\n",
       "      <td>600</td>\n",
       "      <td>600</td>\n",
       "      <td>590</td>\n",
       "      <td>6.0</td>\n",
       "      <td>120.0</td>\n",
       "      <td>20.0</td>\n",
       "      <td>0.8</td>\n",
       "      <td>0.87</td>\n",
       "      <td>0.24</td>\n",
       "      <td>3.3</td>\n",
       "      <td>5.1</td>\n",
       "      <td>0.2</td>\n",
       "      <td>18.20</td>\n",
       "      <td>84.0</td>\n",
       "      <td>16.5</td>\n",
       "      <td>0.08</td>\n",
       "      <td>0.3</td>\n",
       "      <td>0.3</td>\n",
       "    </tr>\n",
       "    <tr>\n",
       "      <th>15</th>\n",
       "      <td>8</td>\n",
       "      <td>1200</td>\n",
       "      <td>1180</td>\n",
       "      <td>6.1</td>\n",
       "      <td>81.0</td>\n",
       "      <td>10.1</td>\n",
       "      <td>0.8</td>\n",
       "      <td>0.88</td>\n",
       "      <td>0.24</td>\n",
       "      <td>4.2</td>\n",
       "      <td>6.1</td>\n",
       "      <td>2.3</td>\n",
       "      <td>4.30</td>\n",
       "      <td>91.0</td>\n",
       "      <td>890.0</td>\n",
       "      <td>1.20</td>\n",
       "      <td>0.6</td>\n",
       "      <td>2.1</td>\n",
       "    </tr>\n",
       "    <tr>\n",
       "      <th>16</th>\n",
       "      <td>8</td>\n",
       "      <td>1200</td>\n",
       "      <td>1150</td>\n",
       "      <td>6.1</td>\n",
       "      <td>80.0</td>\n",
       "      <td>9.8</td>\n",
       "      <td>0.9</td>\n",
       "      <td>0.88</td>\n",
       "      <td>0.25</td>\n",
       "      <td>4.3</td>\n",
       "      <td>6.2</td>\n",
       "      <td>2.2</td>\n",
       "      <td>4.40</td>\n",
       "      <td>92.3</td>\n",
       "      <td>880.0</td>\n",
       "      <td>1.10</td>\n",
       "      <td>0.6</td>\n",
       "      <td>2.2</td>\n",
       "    </tr>\n",
       "    <tr>\n",
       "      <th>17</th>\n",
       "      <td>5</td>\n",
       "      <td>1250</td>\n",
       "      <td>1200</td>\n",
       "      <td>6.0</td>\n",
       "      <td>81.0</td>\n",
       "      <td>9.3</td>\n",
       "      <td>0.8</td>\n",
       "      <td>0.87</td>\n",
       "      <td>0.26</td>\n",
       "      <td>4.4</td>\n",
       "      <td>6.2</td>\n",
       "      <td>2.5</td>\n",
       "      <td>4.20</td>\n",
       "      <td>94.5</td>\n",
       "      <td>910.0</td>\n",
       "      <td>1.20</td>\n",
       "      <td>0.5</td>\n",
       "      <td>3.4</td>\n",
       "    </tr>\n",
       "    <tr>\n",
       "      <th>18</th>\n",
       "      <td>4</td>\n",
       "      <td>1300</td>\n",
       "      <td>1250</td>\n",
       "      <td>6.0</td>\n",
       "      <td>82.0</td>\n",
       "      <td>9.6</td>\n",
       "      <td>0.9</td>\n",
       "      <td>0.87</td>\n",
       "      <td>0.23</td>\n",
       "      <td>4.3</td>\n",
       "      <td>6.3</td>\n",
       "      <td>2.5</td>\n",
       "      <td>4.40</td>\n",
       "      <td>95.4</td>\n",
       "      <td>920.0</td>\n",
       "      <td>1.50</td>\n",
       "      <td>0.7</td>\n",
       "      <td>3.4</td>\n",
       "    </tr>\n",
       "    <tr>\n",
       "      <th>19</th>\n",
       "      <td>4</td>\n",
       "      <td>1300</td>\n",
       "      <td>1250</td>\n",
       "      <td>6.0</td>\n",
       "      <td>82.0</td>\n",
       "      <td>9.7</td>\n",
       "      <td>0.9</td>\n",
       "      <td>0.88</td>\n",
       "      <td>0.24</td>\n",
       "      <td>4.2</td>\n",
       "      <td>6.7</td>\n",
       "      <td>2.6</td>\n",
       "      <td>4.30</td>\n",
       "      <td>92.3</td>\n",
       "      <td>910.0</td>\n",
       "      <td>1.40</td>\n",
       "      <td>0.8</td>\n",
       "      <td>3.5</td>\n",
       "    </tr>\n",
       "  </tbody>\n",
       "</table>\n",
       "</div>"
      ],
      "text/plain": [
       "    elev   dhl   tds   ph   hard    ca   mg   fe3    mn    k    na  nh4  \\\n",
       "0    850    98    68  6.9   45.4  13.9  2.6  0.00  0.01  2.3   9.7  0.5   \n",
       "1    850    91    60  6.8   42.1  15.8  0.6  0.86  0.24  1.6   9.2  0.3   \n",
       "2    700   210   200  6.0   55.0  14.2  0.8  0.90  0.21  2.1  10.1  0.8   \n",
       "3    700   230   200  6.0   53.0  13.9  1.2  0.78  0.22  2.0  10.2  0.8   \n",
       "4    625   240   210  6.3   54.0  14.0  1.3  0.88  0.23  2.3   9.5  0.9   \n",
       "5    600   256   210  6.2   54.0  14.1  1.2  0.90  0.23  2.3   9.5  1.1   \n",
       "6    600   300   280  6.0   55.0  14.3  1.4  0.89  0.24  2.4   9.6  1.2   \n",
       "7    590   325   285  6.0   53.0  14.5  0.9  0.87  0.25  2.5   9.8  1.5   \n",
       "8    590   480   410  6.0   53.0  14.0  0.8  0.85  0.24  2.3   9.8  1.5   \n",
       "9    580   550   515  5.8   54.0  13.8  1.1  0.89  0.23  2.2  10.3  1.4   \n",
       "10   600   600   580  5.8  120.0  21.0  1.2  0.90  0.25  3.2   5.3  0.1   \n",
       "11   600   620   600  6.0  100.0  23.0  1.2  0.90  0.24  3.3   5.3  0.2   \n",
       "12   590   630   600  6.0  120.0  23.0  1.1  0.91  0.25  3.4   5.2  0.3   \n",
       "13   595   650   610  6.0  110.0  21.0  0.8  0.92  0.23  3.2   5.0  0.3   \n",
       "14   600   600   590  6.0  120.0  20.0  0.8  0.87  0.24  3.3   5.1  0.2   \n",
       "15     8  1200  1180  6.1   81.0  10.1  0.8  0.88  0.24  4.2   6.1  2.3   \n",
       "16     8  1200  1150  6.1   80.0   9.8  0.9  0.88  0.25  4.3   6.2  2.2   \n",
       "17     5  1250  1200  6.0   81.0   9.3  0.8  0.87  0.26  4.4   6.2  2.5   \n",
       "18     4  1300  1250  6.0   82.0   9.6  0.9  0.87  0.23  4.3   6.3  2.5   \n",
       "19     4  1300  1250  6.0   82.0   9.7  0.9  0.88  0.24  4.2   6.7  2.6   \n",
       "\n",
       "       co3  hco3     cl   so4  no2  no3  \n",
       "0     0.00  76.3    3.5  0.00  0.0  0.3  \n",
       "1     0.00  69.5    5.1  1.40  0.0  0.0  \n",
       "2     0.05  72.0  110.0  0.08  0.1  1.2  \n",
       "3     0.04  73.0  112.0  0.09  0.2  1.1  \n",
       "4     0.10  73.5  121.0  0.07  0.2  1.2  \n",
       "5     0.09  75.0  120.3  0.08  0.3  1.3  \n",
       "6     0.10  75.0  125.6  0.08  0.3  1.2  \n",
       "7     0.10  76.5  135.4  0.20  0.4  1.4  \n",
       "8     0.08  77.0  143.5  0.20  0.4  1.3  \n",
       "9     0.09  74.3  134.3  0.30  0.4  1.3  \n",
       "10   18.00  82.0   11.2  0.06  0.2  0.2  \n",
       "11   19.10  81.2   13.1  0.08  0.2  0.2  \n",
       "12  182.00  83.5   14.5  0.08  0.3  0.3  \n",
       "13   18.30  85.0   16.4  0.08  0.3  0.3  \n",
       "14   18.20  84.0   16.5  0.08  0.3  0.3  \n",
       "15    4.30  91.0  890.0  1.20  0.6  2.1  \n",
       "16    4.40  92.3  880.0  1.10  0.6  2.2  \n",
       "17    4.20  94.5  910.0  1.20  0.5  3.4  \n",
       "18    4.40  95.4  920.0  1.50  0.7  3.4  \n",
       "19    4.30  92.3  910.0  1.40  0.8  3.5  "
      ]
     },
     "execution_count": 34,
     "metadata": {},
     "output_type": "execute_result"
    }
   ],
   "source": [
    "df_cor"
   ]
  },
  {
   "cell_type": "code",
   "execution_count": 35,
   "metadata": {
    "collapsed": false,
    "nbpresent": {
     "id": "4322b618-0891-4ebb-8cd1-23f866cd9123"
    },
    "slideshow": {
     "slide_type": "subslide"
    }
   },
   "outputs": [
    {
     "data": {
      "text/html": [
       "<div>\n",
       "<table border=\"1\" class=\"dataframe\">\n",
       "  <thead>\n",
       "    <tr style=\"text-align: right;\">\n",
       "      <th></th>\n",
       "      <th>elev</th>\n",
       "      <th>dhl</th>\n",
       "      <th>tds</th>\n",
       "      <th>ph</th>\n",
       "      <th>hard</th>\n",
       "      <th>ca</th>\n",
       "      <th>mg</th>\n",
       "      <th>fe3</th>\n",
       "      <th>mn</th>\n",
       "      <th>k</th>\n",
       "      <th>na</th>\n",
       "      <th>nh4</th>\n",
       "      <th>co3</th>\n",
       "      <th>hco3</th>\n",
       "      <th>cl</th>\n",
       "      <th>so4</th>\n",
       "      <th>no2</th>\n",
       "      <th>no3</th>\n",
       "    </tr>\n",
       "  </thead>\n",
       "  <tbody>\n",
       "    <tr>\n",
       "      <th>elev</th>\n",
       "      <td>1.000000</td>\n",
       "      <td>-0.957003</td>\n",
       "      <td>-0.954142</td>\n",
       "      <td>0.351124</td>\n",
       "      <td>-0.261246</td>\n",
       "      <td>0.614977</td>\n",
       "      <td>0.372277</td>\n",
       "      <td>-0.292380</td>\n",
       "      <td>-0.361425</td>\n",
       "      <td>-0.894264</td>\n",
       "      <td>0.474627</td>\n",
       "      <td>-0.866197</td>\n",
       "      <td>0.076602</td>\n",
       "      <td>-0.898516</td>\n",
       "      <td>-0.967574</td>\n",
       "      <td>-0.745283</td>\n",
       "      <td>-0.913760</td>\n",
       "      <td>-0.869995</td>\n",
       "    </tr>\n",
       "    <tr>\n",
       "      <th>dhl</th>\n",
       "      <td>-0.957003</td>\n",
       "      <td>1.000000</td>\n",
       "      <td>0.999393</td>\n",
       "      <td>-0.412267</td>\n",
       "      <td>0.476553</td>\n",
       "      <td>-0.408690</td>\n",
       "      <td>-0.390167</td>\n",
       "      <td>0.298008</td>\n",
       "      <td>0.366535</td>\n",
       "      <td>0.954259</td>\n",
       "      <td>-0.660693</td>\n",
       "      <td>0.727201</td>\n",
       "      <td>0.058615</td>\n",
       "      <td>0.960730</td>\n",
       "      <td>0.883810</td>\n",
       "      <td>0.700122</td>\n",
       "      <td>0.881999</td>\n",
       "      <td>0.747184</td>\n",
       "    </tr>\n",
       "    <tr>\n",
       "      <th>tds</th>\n",
       "      <td>-0.954142</td>\n",
       "      <td>0.999393</td>\n",
       "      <td>1.000000</td>\n",
       "      <td>-0.416460</td>\n",
       "      <td>0.490888</td>\n",
       "      <td>-0.396684</td>\n",
       "      <td>-0.388725</td>\n",
       "      <td>0.300459</td>\n",
       "      <td>0.366789</td>\n",
       "      <td>0.958134</td>\n",
       "      <td>-0.672465</td>\n",
       "      <td>0.715042</td>\n",
       "      <td>0.063719</td>\n",
       "      <td>0.961137</td>\n",
       "      <td>0.879134</td>\n",
       "      <td>0.694820</td>\n",
       "      <td>0.873798</td>\n",
       "      <td>0.736911</td>\n",
       "    </tr>\n",
       "    <tr>\n",
       "      <th>ph</th>\n",
       "      <td>0.351124</td>\n",
       "      <td>-0.412267</td>\n",
       "      <td>-0.416460</td>\n",
       "      <td>1.000000</td>\n",
       "      <td>-0.468608</td>\n",
       "      <td>-0.114696</td>\n",
       "      <td>0.462888</td>\n",
       "      <td>-0.683439</td>\n",
       "      <td>-0.664189</td>\n",
       "      <td>-0.355674</td>\n",
       "      <td>0.305431</td>\n",
       "      <td>-0.215287</td>\n",
       "      <td>-0.142988</td>\n",
       "      <td>-0.319596</td>\n",
       "      <td>-0.174137</td>\n",
       "      <td>0.127907</td>\n",
       "      <td>-0.488484</td>\n",
       "      <td>-0.272477</td>\n",
       "    </tr>\n",
       "    <tr>\n",
       "      <th>hard</th>\n",
       "      <td>-0.261246</td>\n",
       "      <td>0.476553</td>\n",
       "      <td>0.490888</td>\n",
       "      <td>-0.468608</td>\n",
       "      <td>1.000000</td>\n",
       "      <td>0.556750</td>\n",
       "      <td>-0.234158</td>\n",
       "      <td>0.315063</td>\n",
       "      <td>0.332010</td>\n",
       "      <td>0.619213</td>\n",
       "      <td>-0.930694</td>\n",
       "      <td>-0.215756</td>\n",
       "      <td>0.543726</td>\n",
       "      <td>0.577792</td>\n",
       "      <td>0.057374</td>\n",
       "      <td>-0.041426</td>\n",
       "      <td>0.223151</td>\n",
       "      <td>-0.122834</td>\n",
       "    </tr>\n",
       "    <tr>\n",
       "      <th>ca</th>\n",
       "      <td>0.614977</td>\n",
       "      <td>-0.408690</td>\n",
       "      <td>-0.396684</td>\n",
       "      <td>-0.114696</td>\n",
       "      <td>0.556750</td>\n",
       "      <td>1.000000</td>\n",
       "      <td>0.067952</td>\n",
       "      <td>0.108614</td>\n",
       "      <td>0.063431</td>\n",
       "      <td>-0.253429</td>\n",
       "      <td>-0.348241</td>\n",
       "      <td>-0.877326</td>\n",
       "      <td>0.535660</td>\n",
       "      <td>-0.305915</td>\n",
       "      <td>-0.766508</td>\n",
       "      <td>-0.641598</td>\n",
       "      <td>-0.556640</td>\n",
       "      <td>-0.829555</td>\n",
       "    </tr>\n",
       "    <tr>\n",
       "      <th>mg</th>\n",
       "      <td>0.372277</td>\n",
       "      <td>-0.390167</td>\n",
       "      <td>-0.388725</td>\n",
       "      <td>0.462888</td>\n",
       "      <td>-0.234158</td>\n",
       "      <td>0.067952</td>\n",
       "      <td>1.000000</td>\n",
       "      <td>-0.846951</td>\n",
       "      <td>-0.850999</td>\n",
       "      <td>-0.263820</td>\n",
       "      <td>0.277469</td>\n",
       "      <td>-0.270185</td>\n",
       "      <td>-0.008365</td>\n",
       "      <td>-0.267077</td>\n",
       "      <td>-0.306285</td>\n",
       "      <td>-0.439260</td>\n",
       "      <td>-0.407287</td>\n",
       "      <td>-0.275583</td>\n",
       "    </tr>\n",
       "    <tr>\n",
       "      <th>fe3</th>\n",
       "      <td>-0.292380</td>\n",
       "      <td>0.298008</td>\n",
       "      <td>0.300459</td>\n",
       "      <td>-0.683439</td>\n",
       "      <td>0.315063</td>\n",
       "      <td>0.108614</td>\n",
       "      <td>-0.846951</td>\n",
       "      <td>1.000000</td>\n",
       "      <td>0.969850</td>\n",
       "      <td>0.208926</td>\n",
       "      <td>-0.270610</td>\n",
       "      <td>0.151834</td>\n",
       "      <td>0.126295</td>\n",
       "      <td>0.161122</td>\n",
       "      <td>0.157944</td>\n",
       "      <td>0.167246</td>\n",
       "      <td>0.366406</td>\n",
       "      <td>0.187806</td>\n",
       "    </tr>\n",
       "    <tr>\n",
       "      <th>mn</th>\n",
       "      <td>-0.361425</td>\n",
       "      <td>0.366535</td>\n",
       "      <td>0.366789</td>\n",
       "      <td>-0.664189</td>\n",
       "      <td>0.332010</td>\n",
       "      <td>0.063431</td>\n",
       "      <td>-0.850999</td>\n",
       "      <td>0.969850</td>\n",
       "      <td>1.000000</td>\n",
       "      <td>0.282578</td>\n",
       "      <td>-0.313610</td>\n",
       "      <td>0.217483</td>\n",
       "      <td>0.141525</td>\n",
       "      <td>0.238419</td>\n",
       "      <td>0.229075</td>\n",
       "      <td>0.245751</td>\n",
       "      <td>0.423140</td>\n",
       "      <td>0.237185</td>\n",
       "    </tr>\n",
       "    <tr>\n",
       "      <th>k</th>\n",
       "      <td>-0.894264</td>\n",
       "      <td>0.954259</td>\n",
       "      <td>0.958134</td>\n",
       "      <td>-0.355674</td>\n",
       "      <td>0.619213</td>\n",
       "      <td>-0.253429</td>\n",
       "      <td>-0.263820</td>\n",
       "      <td>0.208926</td>\n",
       "      <td>0.282578</td>\n",
       "      <td>1.000000</td>\n",
       "      <td>-0.790417</td>\n",
       "      <td>0.583203</td>\n",
       "      <td>0.175016</td>\n",
       "      <td>0.986744</td>\n",
       "      <td>0.796820</td>\n",
       "      <td>0.572381</td>\n",
       "      <td>0.775493</td>\n",
       "      <td>0.622899</td>\n",
       "    </tr>\n",
       "    <tr>\n",
       "      <th>na</th>\n",
       "      <td>0.474627</td>\n",
       "      <td>-0.660693</td>\n",
       "      <td>-0.672465</td>\n",
       "      <td>0.305431</td>\n",
       "      <td>-0.930694</td>\n",
       "      <td>-0.348241</td>\n",
       "      <td>0.277469</td>\n",
       "      <td>-0.270610</td>\n",
       "      <td>-0.313610</td>\n",
       "      <td>-0.790417</td>\n",
       "      <td>1.000000</td>\n",
       "      <td>0.008116</td>\n",
       "      <td>-0.422157</td>\n",
       "      <td>-0.758571</td>\n",
       "      <td>-0.308199</td>\n",
       "      <td>-0.251091</td>\n",
       "      <td>-0.359234</td>\n",
       "      <td>-0.060444</td>\n",
       "    </tr>\n",
       "    <tr>\n",
       "      <th>nh4</th>\n",
       "      <td>-0.866197</td>\n",
       "      <td>0.727201</td>\n",
       "      <td>0.715042</td>\n",
       "      <td>-0.215287</td>\n",
       "      <td>-0.215756</td>\n",
       "      <td>-0.877326</td>\n",
       "      <td>-0.270185</td>\n",
       "      <td>0.151834</td>\n",
       "      <td>0.217483</td>\n",
       "      <td>0.583203</td>\n",
       "      <td>0.008116</td>\n",
       "      <td>1.000000</td>\n",
       "      <td>-0.301810</td>\n",
       "      <td>0.618134</td>\n",
       "      <td>0.918295</td>\n",
       "      <td>0.714203</td>\n",
       "      <td>0.859633</td>\n",
       "      <td>0.958507</td>\n",
       "    </tr>\n",
       "    <tr>\n",
       "      <th>co3</th>\n",
       "      <td>0.076602</td>\n",
       "      <td>0.058615</td>\n",
       "      <td>0.063719</td>\n",
       "      <td>-0.142988</td>\n",
       "      <td>0.543726</td>\n",
       "      <td>0.535660</td>\n",
       "      <td>-0.008365</td>\n",
       "      <td>0.126295</td>\n",
       "      <td>0.141525</td>\n",
       "      <td>0.175016</td>\n",
       "      <td>-0.422157</td>\n",
       "      <td>-0.301810</td>\n",
       "      <td>1.000000</td>\n",
       "      <td>0.129886</td>\n",
       "      <td>-0.191432</td>\n",
       "      <td>-0.186028</td>\n",
       "      <td>-0.045179</td>\n",
       "      <td>-0.268582</td>\n",
       "    </tr>\n",
       "    <tr>\n",
       "      <th>hco3</th>\n",
       "      <td>-0.898516</td>\n",
       "      <td>0.960730</td>\n",
       "      <td>0.961137</td>\n",
       "      <td>-0.319596</td>\n",
       "      <td>0.577792</td>\n",
       "      <td>-0.305915</td>\n",
       "      <td>-0.267077</td>\n",
       "      <td>0.161122</td>\n",
       "      <td>0.238419</td>\n",
       "      <td>0.986744</td>\n",
       "      <td>-0.758571</td>\n",
       "      <td>0.618134</td>\n",
       "      <td>0.129886</td>\n",
       "      <td>1.000000</td>\n",
       "      <td>0.816052</td>\n",
       "      <td>0.612538</td>\n",
       "      <td>0.797313</td>\n",
       "      <td>0.657684</td>\n",
       "    </tr>\n",
       "    <tr>\n",
       "      <th>cl</th>\n",
       "      <td>-0.967574</td>\n",
       "      <td>0.883810</td>\n",
       "      <td>0.879134</td>\n",
       "      <td>-0.174137</td>\n",
       "      <td>0.057374</td>\n",
       "      <td>-0.766508</td>\n",
       "      <td>-0.306285</td>\n",
       "      <td>0.157944</td>\n",
       "      <td>0.229075</td>\n",
       "      <td>0.796820</td>\n",
       "      <td>-0.308199</td>\n",
       "      <td>0.918295</td>\n",
       "      <td>-0.191432</td>\n",
       "      <td>0.816052</td>\n",
       "      <td>1.000000</td>\n",
       "      <td>0.828348</td>\n",
       "      <td>0.852359</td>\n",
       "      <td>0.914733</td>\n",
       "    </tr>\n",
       "    <tr>\n",
       "      <th>so4</th>\n",
       "      <td>-0.745283</td>\n",
       "      <td>0.700122</td>\n",
       "      <td>0.694820</td>\n",
       "      <td>0.127907</td>\n",
       "      <td>-0.041426</td>\n",
       "      <td>-0.641598</td>\n",
       "      <td>-0.439260</td>\n",
       "      <td>0.167246</td>\n",
       "      <td>0.245751</td>\n",
       "      <td>0.572381</td>\n",
       "      <td>-0.251091</td>\n",
       "      <td>0.714203</td>\n",
       "      <td>-0.186028</td>\n",
       "      <td>0.612538</td>\n",
       "      <td>0.828348</td>\n",
       "      <td>1.000000</td>\n",
       "      <td>0.624154</td>\n",
       "      <td>0.697419</td>\n",
       "    </tr>\n",
       "    <tr>\n",
       "      <th>no2</th>\n",
       "      <td>-0.913760</td>\n",
       "      <td>0.881999</td>\n",
       "      <td>0.873798</td>\n",
       "      <td>-0.488484</td>\n",
       "      <td>0.223151</td>\n",
       "      <td>-0.556640</td>\n",
       "      <td>-0.407287</td>\n",
       "      <td>0.366406</td>\n",
       "      <td>0.423140</td>\n",
       "      <td>0.775493</td>\n",
       "      <td>-0.359234</td>\n",
       "      <td>0.859633</td>\n",
       "      <td>-0.045179</td>\n",
       "      <td>0.797313</td>\n",
       "      <td>0.852359</td>\n",
       "      <td>0.624154</td>\n",
       "      <td>1.000000</td>\n",
       "      <td>0.842480</td>\n",
       "    </tr>\n",
       "    <tr>\n",
       "      <th>no3</th>\n",
       "      <td>-0.869995</td>\n",
       "      <td>0.747184</td>\n",
       "      <td>0.736911</td>\n",
       "      <td>-0.272477</td>\n",
       "      <td>-0.122834</td>\n",
       "      <td>-0.829555</td>\n",
       "      <td>-0.275583</td>\n",
       "      <td>0.187806</td>\n",
       "      <td>0.237185</td>\n",
       "      <td>0.622899</td>\n",
       "      <td>-0.060444</td>\n",
       "      <td>0.958507</td>\n",
       "      <td>-0.268582</td>\n",
       "      <td>0.657684</td>\n",
       "      <td>0.914733</td>\n",
       "      <td>0.697419</td>\n",
       "      <td>0.842480</td>\n",
       "      <td>1.000000</td>\n",
       "    </tr>\n",
       "  </tbody>\n",
       "</table>\n",
       "</div>"
      ],
      "text/plain": [
       "          elev       dhl       tds        ph      hard        ca        mg  \\\n",
       "elev  1.000000 -0.957003 -0.954142  0.351124 -0.261246  0.614977  0.372277   \n",
       "dhl  -0.957003  1.000000  0.999393 -0.412267  0.476553 -0.408690 -0.390167   \n",
       "tds  -0.954142  0.999393  1.000000 -0.416460  0.490888 -0.396684 -0.388725   \n",
       "ph    0.351124 -0.412267 -0.416460  1.000000 -0.468608 -0.114696  0.462888   \n",
       "hard -0.261246  0.476553  0.490888 -0.468608  1.000000  0.556750 -0.234158   \n",
       "ca    0.614977 -0.408690 -0.396684 -0.114696  0.556750  1.000000  0.067952   \n",
       "mg    0.372277 -0.390167 -0.388725  0.462888 -0.234158  0.067952  1.000000   \n",
       "fe3  -0.292380  0.298008  0.300459 -0.683439  0.315063  0.108614 -0.846951   \n",
       "mn   -0.361425  0.366535  0.366789 -0.664189  0.332010  0.063431 -0.850999   \n",
       "k    -0.894264  0.954259  0.958134 -0.355674  0.619213 -0.253429 -0.263820   \n",
       "na    0.474627 -0.660693 -0.672465  0.305431 -0.930694 -0.348241  0.277469   \n",
       "nh4  -0.866197  0.727201  0.715042 -0.215287 -0.215756 -0.877326 -0.270185   \n",
       "co3   0.076602  0.058615  0.063719 -0.142988  0.543726  0.535660 -0.008365   \n",
       "hco3 -0.898516  0.960730  0.961137 -0.319596  0.577792 -0.305915 -0.267077   \n",
       "cl   -0.967574  0.883810  0.879134 -0.174137  0.057374 -0.766508 -0.306285   \n",
       "so4  -0.745283  0.700122  0.694820  0.127907 -0.041426 -0.641598 -0.439260   \n",
       "no2  -0.913760  0.881999  0.873798 -0.488484  0.223151 -0.556640 -0.407287   \n",
       "no3  -0.869995  0.747184  0.736911 -0.272477 -0.122834 -0.829555 -0.275583   \n",
       "\n",
       "           fe3        mn         k        na       nh4       co3      hco3  \\\n",
       "elev -0.292380 -0.361425 -0.894264  0.474627 -0.866197  0.076602 -0.898516   \n",
       "dhl   0.298008  0.366535  0.954259 -0.660693  0.727201  0.058615  0.960730   \n",
       "tds   0.300459  0.366789  0.958134 -0.672465  0.715042  0.063719  0.961137   \n",
       "ph   -0.683439 -0.664189 -0.355674  0.305431 -0.215287 -0.142988 -0.319596   \n",
       "hard  0.315063  0.332010  0.619213 -0.930694 -0.215756  0.543726  0.577792   \n",
       "ca    0.108614  0.063431 -0.253429 -0.348241 -0.877326  0.535660 -0.305915   \n",
       "mg   -0.846951 -0.850999 -0.263820  0.277469 -0.270185 -0.008365 -0.267077   \n",
       "fe3   1.000000  0.969850  0.208926 -0.270610  0.151834  0.126295  0.161122   \n",
       "mn    0.969850  1.000000  0.282578 -0.313610  0.217483  0.141525  0.238419   \n",
       "k     0.208926  0.282578  1.000000 -0.790417  0.583203  0.175016  0.986744   \n",
       "na   -0.270610 -0.313610 -0.790417  1.000000  0.008116 -0.422157 -0.758571   \n",
       "nh4   0.151834  0.217483  0.583203  0.008116  1.000000 -0.301810  0.618134   \n",
       "co3   0.126295  0.141525  0.175016 -0.422157 -0.301810  1.000000  0.129886   \n",
       "hco3  0.161122  0.238419  0.986744 -0.758571  0.618134  0.129886  1.000000   \n",
       "cl    0.157944  0.229075  0.796820 -0.308199  0.918295 -0.191432  0.816052   \n",
       "so4   0.167246  0.245751  0.572381 -0.251091  0.714203 -0.186028  0.612538   \n",
       "no2   0.366406  0.423140  0.775493 -0.359234  0.859633 -0.045179  0.797313   \n",
       "no3   0.187806  0.237185  0.622899 -0.060444  0.958507 -0.268582  0.657684   \n",
       "\n",
       "            cl       so4       no2       no3  \n",
       "elev -0.967574 -0.745283 -0.913760 -0.869995  \n",
       "dhl   0.883810  0.700122  0.881999  0.747184  \n",
       "tds   0.879134  0.694820  0.873798  0.736911  \n",
       "ph   -0.174137  0.127907 -0.488484 -0.272477  \n",
       "hard  0.057374 -0.041426  0.223151 -0.122834  \n",
       "ca   -0.766508 -0.641598 -0.556640 -0.829555  \n",
       "mg   -0.306285 -0.439260 -0.407287 -0.275583  \n",
       "fe3   0.157944  0.167246  0.366406  0.187806  \n",
       "mn    0.229075  0.245751  0.423140  0.237185  \n",
       "k     0.796820  0.572381  0.775493  0.622899  \n",
       "na   -0.308199 -0.251091 -0.359234 -0.060444  \n",
       "nh4   0.918295  0.714203  0.859633  0.958507  \n",
       "co3  -0.191432 -0.186028 -0.045179 -0.268582  \n",
       "hco3  0.816052  0.612538  0.797313  0.657684  \n",
       "cl    1.000000  0.828348  0.852359  0.914733  \n",
       "so4   0.828348  1.000000  0.624154  0.697419  \n",
       "no2   0.852359  0.624154  1.000000  0.842480  \n",
       "no3   0.914733  0.697419  0.842480  1.000000  "
      ]
     },
     "execution_count": 35,
     "metadata": {},
     "output_type": "execute_result"
    }
   ],
   "source": [
    "corr = df_cor.corr()\n",
    "corr"
   ]
  },
  {
   "cell_type": "markdown",
   "metadata": {
    "slideshow": {
     "slide_type": "slide"
    }
   },
   "source": [
    "## scatter plot matrix\n",
    "\n",
    "Then we visualize the correlation matrix in form of scatter plot matrix. We're going to see to types of scatter plot matrix. The first one builds on `pandas` function. The function automatically produces a separate window to contain the plot. The second plot, we define a custom-made function. "
   ]
  },
  {
   "cell_type": "code",
   "execution_count": 75,
   "metadata": {
    "collapsed": false,
    "slideshow": {
     "slide_type": "subslide"
    }
   },
   "outputs": [
    {
     "data": {
      "image/png": "[encoded data removed]",
      "text/plain": [
       "<matplotlib.figure.Figure at 0x1455d6390>"
      ]
     },
     "metadata": {},
     "output_type": "display_data"
    }
   ],
   "source": [
    "scatter_matrix(df_cor, figsize=(8,8))\n",
    "plt.savefig('scatmat1.png')"
   ]
  },
  {
   "cell_type": "code",
   "execution_count": 77,
   "metadata": {
    "collapsed": false
   },
   "outputs": [
    {
     "data": {
      "image/png": "[encoded data removed]",
      "text/plain": [
       "<matplotlib.figure.Figure at 0x1338d29b0>"
      ]
     },
     "metadata": {},
     "output_type": "display_data"
    }
   ],
   "source": [
    "def plot_corr(df_cor, size=10):\n",
    "    '''function to plot a graphical correlation matrix\n",
    "    input:\n",
    "        df: pandas DataFrame\n",
    "        size: vertical and horizontal size of the plot'''\n",
    "    import matplotlib.cm as cm # to load color map\n",
    "    corr = df_cor.corr()\n",
    "    fig, ax = plt.subplots(figsize = (size, size))\n",
    "    ax.matshow(corr)\n",
    "    plt.xticks(range(len(corr.columns)), corr.columns);\n",
    "    plt.yticks(range(len(corr.columns)), corr.columns)\n",
    "plot_corr(df_cor, size = 10)\n",
    "plt.savefig('scatmat2.png') # use this line only if you want to save the plot\n"
   ]
  },
  {
   "cell_type": "markdown",
   "metadata": {
    "nbpresent": {
     "id": "644ca130-617d-44a4-8b2e-540ff6800626"
    },
    "slideshow": {
     "slide_type": "subslide"
    }
   },
   "source": [
    "# we find the following correlations\n",
    "\n",
    "- TDS-DHL/EC with: K, HCO3, Cl, SO4, CO2, dan NO3\n",
    "- K with HCO3 and Cl\n",
    "- NH4 with Cl, SO4, NO2, dan NO3\n",
    "- Cl with SO4, NO2 dan NO3\n",
    "- NO2 with NO3"
   ]
  },
  {
   "cell_type": "markdown",
   "metadata": {
    "nbpresent": {
     "id": "dcc319c0-21b6-4039-ba7f-757dde4b10a5"
    },
    "slideshow": {
     "slide_type": "slide"
    }
   },
   "source": [
    "# multivariate analysis\n",
    "\n",
    "we will use principal component analysis (PCA) and later on cluster analysis (CA) to separate water quality samples."
   ]
  },
  {
   "cell_type": "markdown",
   "metadata": {
    "slideshow": {
     "slide_type": "subslide"
    }
   },
   "source": [
    "# steps\n",
    "\n",
    "- scale or normalize of dataset using `scale()` function\n",
    "- creating PCA model using `PCA()`\n",
    "- evaluating PCA\n",
    "- visualize PCA"
   ]
  },
  {
   "cell_type": "markdown",
   "metadata": {
    "nbpresent": {
     "id": "a590eacd-ec8c-476e-bc62-d3832dcf6247"
    },
    "slideshow": {
     "slide_type": "notes"
    }
   },
   "source": [
    "# Multivariate analysis\n",
    "\n",
    "Di sini kita mencoba menggunakan dua analisis multivariabel, Principal Component Analysis dan Cluster Analysis, untuk memisahkan sampel air berdasarkan karakter sifat fisik dan kimianya. Kami menggunakan library Scikit-Learn untuk melakukan ini.\n",
    "\n",
    "## Principal component analysis (PCA)\n",
    "Dalam tahap ini kami menggunakan fungsi `PCA` dari Pandas. Sebelumnya proses standardisasi atau normalisasi perlu dilakukan dengan fungsi `scale`. Hasil dari fungsi `PCA` adalah nilai per variabel terhadap komponen 1 dan komponen 2. Jadi nantinya 18 variabel yang diukur akan dimasukkan ke dalam dua komponen utama (PC1 dan PC2). Dengan demikian akan muncul dua komponen yang merupakan transformasi dari 18 variabel awal. Berbekal dua komponen besar dan bukan 18 variabel terpisah, akan memudahkan kami untuk melakukan interpretasi lebih lanjut. Karena sebab inilah, maka PCA adalah salah satu teknik pengurangan dimensi atau _dimension reduction_.   "
   ]
  },
  {
   "cell_type": "markdown",
   "metadata": {
    "nbpresent": {
     "id": "3353c68a-b3e2-4726-a16d-e8e020f0427a"
    },
    "slideshow": {
     "slide_type": "notes"
    }
   },
   "source": [
    "### Creating PCA model and fitting\n",
    "Tahap pertama adalah melakukan normalisasi dengan `scale()` dan kemudian menjalankan proses PCA dengan `pca()`. Dalam proses PCA, data yang tadinya terdiri dari 18 variabel (atau sumbu atau dimensi), ditransformasi menjadi beberapa komponen saja. Biasanya fungsi `pca()` akan mengajukan empat komponen untuk dipilih, tapi pengguna bisa saja menentukan berapa jumlah komponen yang dihasilkan sejak awal, misalnya 2 komponen."
   ]
  },
  {
   "cell_type": "code",
   "execution_count": 78,
   "metadata": {
    "collapsed": true,
    "nbpresent": {
     "id": "f5742379-ea00-4f03-883b-b33436a38ad3"
    },
    "slideshow": {
     "slide_type": "subslide"
    }
   },
   "outputs": [],
   "source": [
    "# scaling the dataset\n",
    "standardisedX = scale(df_cor) # scale() from sklearn\n",
    "standardisedX = pd.DataFrame(standardisedX, index=df_cor.index, columns=df_cor.columns)"
   ]
  },
  {
   "cell_type": "code",
   "execution_count": 80,
   "metadata": {
    "collapsed": true,
    "nbpresent": {
     "id": "4bf894e7-8d5c-481d-8fb9-3c6c9682b07c"
    },
    "slideshow": {
     "slide_type": "subslide"
    }
   },
   "outputs": [],
   "source": [
    "from sklearn.decomposition import PCA\n",
    "pca = PCA(n_components=2, svd_solver='full')\n",
    "pca.fit(df_cor)\n",
    "existing_2d = pca.transform(df_cor)\n",
    "existing_df_2d = pd.DataFrame(existing_2d)\n",
    "existing_df_2d.index = df_cor.index\n",
    "existing_df_2d.columns = ['PC1','PC2']\n",
    "existing_df_2d\n",
    "existing_df_2d.to_csv('us_pc.csv')"
   ]
  },
  {
   "cell_type": "code",
   "execution_count": 61,
   "metadata": {
    "collapsed": false,
    "nbpresent": {
     "id": "289efd73-d11c-4c13-9fcc-0d4259a26c19"
    },
    "slideshow": {
     "slide_type": "subslide"
    }
   },
   "outputs": [
    {
     "name": "stdout",
     "output_type": "stream",
     "text": [
      "[ 0.95121667  0.04443762]\n"
     ]
    }
   ],
   "source": [
    "print(pca.explained_variance_ratio_) "
   ]
  },
  {
   "cell_type": "markdown",
   "metadata": {
    "nbpresent": {
     "id": "d4db8c79-a674-4727-a1cf-75bf7ea2563c"
    },
    "slideshow": {
     "slide_type": "notes"
    }
   },
   "source": [
    "### Evaluating PCA fit\n",
    "Di sini kami mengevaluasi model PCA yang telah dihasilkan, yaitu dengan menghitung dan memplot jumlah komponen yang mampu menangkap variansi kumulatif terbesar dari data yang mampu dijelaskan oleh model (_cumulative explained variance_)."
   ]
  },
  {
   "cell_type": "code",
   "execution_count": 81,
   "metadata": {
    "collapsed": false,
    "nbpresent": {
     "id": "71fa3c09-1e6b-4a98-aba8-36f1e2ed6aeb"
    },
    "slideshow": {
     "slide_type": "subslide"
    }
   },
   "outputs": [
    {
     "data": {
      "image/png": "[encoded data removed]",
      "text/plain": [
       "<matplotlib.figure.Figure at 0x1338d2860>"
      ]
     },
     "metadata": {},
     "output_type": "display_data"
    }
   ],
   "source": [
    "cumsum = plt.plot(np.cumsum(pca.explained_variance_ratio_))\n",
    "plt.xlabel('number of components')\n",
    "plt.ylabel('cumulative explained variance');\n"
   ]
  },
  {
   "cell_type": "markdown",
   "metadata": {
    "nbpresent": {
     "id": "94c63f24-7def-458f-b1e5-43663dfee159"
    },
    "slideshow": {
     "slide_type": "subslide"
    }
   },
   "source": [
    "## calculating `eigenvalue`\n",
    "\n",
    "This function is borrowed from this [source](http://python-for-multivariate-analysis.readthedocs.io/a_little_book_of_python_for_multivariate_analysis.html#loadings-for-the-principal-components) for calculating `eigenvalue`."
   ]
  },
  {
   "cell_type": "code",
   "execution_count": 82,
   "metadata": {
    "collapsed": true,
    "nbpresent": {
     "id": "3dce15dd-59c5-4994-abd2-a9a69bd9ef6f"
    },
    "slideshow": {
     "slide_type": "subslide"
    }
   },
   "outputs": [],
   "source": [
    "pca = PCA(n_components=2, svd_solver='full').fit(standardisedX)\n",
    "pca.fit = pca.fit(df_cor)"
   ]
  },
  {
   "cell_type": "code",
   "execution_count": 83,
   "metadata": {
    "collapsed": false,
    "nbpresent": {
     "id": "562ee0b1-f9fe-4db7-a490-0348e9633219"
    },
    "slideshow": {
     "slide_type": "subslide"
    }
   },
   "outputs": [
    {
     "name": "stdout",
     "output_type": "stream",
     "text": [
      "521036.295628\n",
      "521036.295628\n",
      "24341.0491775\n",
      "24341.0491775\n"
     ]
    }
   ],
   "source": [
    "X_transformed = pca.fit_transform(df_cor)\n",
    "\n",
    "# We center the data and compute the sample covariance matrix.\n",
    "df_cor_centered = df_cor - np.mean(df_cor, axis=0)\n",
    "cov_matrix = np.dot(df_cor_centered.T, df_cor_centered) / 20\n",
    "eigenvalues = pca.explained_variance_\n",
    "for eigenvalue, eigenvector in zip(eigenvalues, pca.components_):    \n",
    "    print(np.dot(eigenvector.T, np.dot(cov_matrix, eigenvector)))\n",
    "    print(eigenvalue)"
   ]
  },
  {
   "cell_type": "code",
   "execution_count": 84,
   "metadata": {
    "collapsed": false,
    "nbpresent": {
     "id": "0555b237-cf1e-4357-bdf5-13929f0a56cb"
    },
    "scrolled": true,
    "slideshow": {
     "slide_type": "subslide"
    }
   },
   "outputs": [
    {
     "data": {
      "text/plain": [
       "<matplotlib.axes._subplots.AxesSubplot at 0x1334cd7b8>"
      ]
     },
     "execution_count": 84,
     "metadata": {},
     "output_type": "execute_result"
    },
    {
     "data": {
      "image/png": "[encoded data removed]",
      "text/plain": [
       "<matplotlib.figure.Figure at 0x133499550>"
      ]
     },
     "metadata": {},
     "output_type": "display_data"
    }
   ],
   "source": [
    "type(eigenvalue)\n",
    "eigval = pd.Series({2: 521036.29562818405, 1: 548459.2585559834, 4: 24341.049177525907, 3: 25622.157028974627})\n",
    "eigval.plot.bar(figsize=(16,8))"
   ]
  },
  {
   "cell_type": "markdown",
   "metadata": {
    "slideshow": {
     "slide_type": "subslide"
    }
   },
   "source": [
    "## ploting loading/vector\n",
    "\n",
    "Here we plot loadings (R's term) or vectors (python's term) of the PCA model."
   ]
  },
  {
   "cell_type": "code",
   "execution_count": 86,
   "metadata": {
    "collapsed": false,
    "nbpresent": {
     "id": "af793dda-c41d-46b0-b3d7-fe4a7324dcd0"
    },
    "slideshow": {
     "slide_type": "subslide"
    }
   },
   "outputs": [
    {
     "data": {
      "text/plain": [
       "<matplotlib.collections.PathCollection at 0x13487f2e8>"
      ]
     },
     "execution_count": 86,
     "metadata": {},
     "output_type": "execute_result"
    },
    {
     "data": {
      "image/png": "[encoded data removed]",
      "text/plain": [
       "<matplotlib.figure.Figure at 0x1347e6e80>"
      ]
     },
     "metadata": {},
     "output_type": "display_data"
    }
   ],
   "source": [
    "pcdf = pd.DataFrame(data = X_transformed, columns = ['PC1', 'PC2'])\n",
    "pcdf\n",
    "fig, ax = plt.subplots()\n",
    "ax.scatter(x=pcdf[\"PC1\"], y=pcdf[\"PC2\"])"
   ]
  },
  {
   "cell_type": "markdown",
   "metadata": {
    "nbpresent": {
     "id": "2df9f1bf-7c65-495b-895d-a41ee20a25fb"
    },
    "slideshow": {
     "slide_type": "notes"
    }
   },
   "source": [
    "PCA pada dasarnya adalah alat untuk mengurangi dimensi (baca: variabel) atau *dimension reduction*. Bila semula kami punya 18 variabel, kemudian ditransformasi oleh PCA menjadi dua variabel, berupa `komponen principal (PC)` (*principal component*), seperti dapat dilihat pada diagram balok di atas. Sekarang kita lihat variabel apa saja yang berperan membentuk PC 1 dan PC2."
   ]
  },
  {
   "cell_type": "markdown",
   "metadata": {
    "nbpresent": {
     "id": "ed042510-3279-4e06-bd45-a3660283039e"
    },
    "slideshow": {
     "slide_type": "notes"
    }
   },
   "source": [
    "Plot di atas memperlihatkan lompatan nilai eigen value yang sangat besar antara PC2 dan PC3. Atas dasar itu, kami memilih analisis dilanjutkan pada PC1 dan PC2 untuk menangkap variansi terbesar dari data yang ada."
   ]
  },
  {
   "cell_type": "markdown",
   "metadata": {
    "nbpresent": {
     "id": "f84f937b-dbac-4c59-af5b-0f362351f996"
    },
    "slideshow": {
     "slide_type": "notes"
    }
   },
   "source": [
    "### Visualizing PCA fit\n",
    "Di sini kami membuat beberapa visualisasi model PCA menggunakan _scatter plot_ sederhana."
   ]
  },
  {
   "cell_type": "code",
   "execution_count": 279,
   "metadata": {
    "collapsed": false,
    "nbpresent": {
     "id": "50b7fae9-bc2f-4d80-8b35-bd6f165db8d8"
    },
    "slideshow": {
     "slide_type": "notes"
    }
   },
   "outputs": [
    {
     "data": {
      "image/png": "[encoded data removed]",
      "text/plain": [
       "<matplotlib.figure.Figure at 0x1a23efb8d0>"
      ]
     },
     "metadata": {},
     "output_type": "display_data"
    }
   ],
   "source": [
    "ax = existing_df_2d.plot(kind='scatter', x='PC2', y='PC1', figsize=(16,8))\n",
    "for i, sample in enumerate(existing_df_2d.index):\n",
    "    ax.annotate(sample, (existing_df_2d.iloc[i].PC2, existing_df_2d.iloc[i].PC1))"
   ]
  },
  {
   "cell_type": "markdown",
   "metadata": {
    "nbpresent": {
     "id": "f33dc61c-95a4-48e2-a563-f49eee07b1ee"
    },
    "slideshow": {
     "slide_type": "notes"
    }
   },
   "source": [
    "Perhatikan plot di atas. Index data menggunakan no urut. Kami ingin menambahkan identitas pada tiap titik data. Untuk itu kami tambahkan kolom `litho` dan `sampleid` ke dalam `existing_df_2d` (dataframe hasil fit PCA). Kemudian kami set kolom `sampleid` sebagai index.   "
   ]
  },
  {
   "cell_type": "code",
   "execution_count": 280,
   "metadata": {
    "collapsed": true,
    "nbpresent": {
     "id": "39a97fc8-0701-4bc0-95da-e2b19be65af7"
    },
    "slideshow": {
     "slide_type": "skip"
    }
   },
   "outputs": [],
   "source": [
    "lithoid = pd.DataFrame(df['litho']) \n",
    "type(lithoid)\n",
    "sampleid = pd.DataFrame(df['sample']) \n",
    "type(sampleid)\n",
    "existing_df_2d = lithoid.join(existing_df_2d)"
   ]
  },
  {
   "cell_type": "code",
   "execution_count": 281,
   "metadata": {
    "collapsed": false,
    "nbpresent": {
     "id": "77295454-cb5b-4b33-9d0b-b223bc32f3e4"
    },
    "slideshow": {
     "slide_type": "skip"
    }
   },
   "outputs": [
    {
     "data": {
      "text/html": [
       "<div>\n",
       "<style scoped>\n",
       "    .dataframe tbody tr th:only-of-type {\n",
       "        vertical-align: middle;\n",
       "    }\n",
       "\n",
       "    .dataframe tbody tr th {\n",
       "        vertical-align: top;\n",
       "    }\n",
       "\n",
       "    .dataframe thead th {\n",
       "        text-align: right;\n",
       "    }\n",
       "</style>\n",
       "<table border=\"1\" class=\"dataframe\">\n",
       "  <thead>\n",
       "    <tr style=\"text-align: right;\">\n",
       "      <th></th>\n",
       "      <th>litho</th>\n",
       "      <th>PC1</th>\n",
       "      <th>PC2</th>\n",
       "    </tr>\n",
       "  </thead>\n",
       "  <tbody>\n",
       "    <tr>\n",
       "      <th>0</th>\n",
       "      <td>volc</td>\n",
       "      <td>-838.951592</td>\n",
       "      <td>-121.561683</td>\n",
       "    </tr>\n",
       "    <tr>\n",
       "      <th>1</th>\n",
       "      <td>volc</td>\n",
       "      <td>-846.664166</td>\n",
       "      <td>-129.334472</td>\n",
       "    </tr>\n",
       "    <tr>\n",
       "      <th>2</th>\n",
       "      <td>volc</td>\n",
       "      <td>-593.633184</td>\n",
       "      <td>-136.570959</td>\n",
       "    </tr>\n",
       "    <tr>\n",
       "      <th>3</th>\n",
       "      <td>volc</td>\n",
       "      <td>-581.479636</td>\n",
       "      <td>-130.548613</td>\n",
       "    </tr>\n",
       "    <tr>\n",
       "      <th>4</th>\n",
       "      <td>volc</td>\n",
       "      <td>-536.608599</td>\n",
       "      <td>-145.809350</td>\n",
       "    </tr>\n",
       "    <tr>\n",
       "      <th>5</th>\n",
       "      <td>volc</td>\n",
       "      <td>-518.134771</td>\n",
       "      <td>-144.512845</td>\n",
       "    </tr>\n",
       "    <tr>\n",
       "      <th>6</th>\n",
       "      <td>volc</td>\n",
       "      <td>-452.203972</td>\n",
       "      <td>-102.269583</td>\n",
       "    </tr>\n",
       "    <tr>\n",
       "      <th>7</th>\n",
       "      <td>volc</td>\n",
       "      <td>-426.850450</td>\n",
       "      <td>-100.392910</td>\n",
       "    </tr>\n",
       "    <tr>\n",
       "      <th>8</th>\n",
       "      <td>volc</td>\n",
       "      <td>-266.902302</td>\n",
       "      <td>5.764896</td>\n",
       "    </tr>\n",
       "    <tr>\n",
       "      <th>9</th>\n",
       "      <td>volc</td>\n",
       "      <td>-170.003433</td>\n",
       "      <td>81.508510</td>\n",
       "    </tr>\n",
       "    <tr>\n",
       "      <th>10</th>\n",
       "      <td>lime</td>\n",
       "      <td>-171.324185</td>\n",
       "      <td>238.855615</td>\n",
       "    </tr>\n",
       "    <tr>\n",
       "      <th>11</th>\n",
       "      <td>lime</td>\n",
       "      <td>-148.415345</td>\n",
       "      <td>250.834806</td>\n",
       "    </tr>\n",
       "    <tr>\n",
       "      <th>12</th>\n",
       "      <td>lime</td>\n",
       "      <td>-138.099208</td>\n",
       "      <td>276.803309</td>\n",
       "    </tr>\n",
       "    <tr>\n",
       "      <th>13</th>\n",
       "      <td>lime</td>\n",
       "      <td>-122.348431</td>\n",
       "      <td>264.403146</td>\n",
       "    </tr>\n",
       "    <tr>\n",
       "      <th>14</th>\n",
       "      <td>lime</td>\n",
       "      <td>-163.254633</td>\n",
       "      <td>238.954785</td>\n",
       "    </tr>\n",
       "    <tr>\n",
       "      <th>15</th>\n",
       "      <td>alluv</td>\n",
       "      <td>1145.961352</td>\n",
       "      <td>-89.919488</td>\n",
       "    </tr>\n",
       "    <tr>\n",
       "      <th>16</th>\n",
       "      <td>alluv</td>\n",
       "      <td>1124.625735</td>\n",
       "      <td>-94.771621</td>\n",
       "    </tr>\n",
       "    <tr>\n",
       "      <th>17</th>\n",
       "      <td>alluv</td>\n",
       "      <td>1195.778032</td>\n",
       "      <td>-78.047645</td>\n",
       "    </tr>\n",
       "    <tr>\n",
       "      <th>18</th>\n",
       "      <td>alluv</td>\n",
       "      <td>1256.642101</td>\n",
       "      <td>-45.498225</td>\n",
       "    </tr>\n",
       "    <tr>\n",
       "      <th>19</th>\n",
       "      <td>alluv</td>\n",
       "      <td>1251.866686</td>\n",
       "      <td>-37.887673</td>\n",
       "    </tr>\n",
       "  </tbody>\n",
       "</table>\n",
       "</div>"
      ],
      "text/plain": [
       "    litho          PC1         PC2\n",
       "0    volc  -838.951592 -121.561683\n",
       "1    volc  -846.664166 -129.334472\n",
       "2    volc  -593.633184 -136.570959\n",
       "3    volc  -581.479636 -130.548613\n",
       "4    volc  -536.608599 -145.809350\n",
       "5    volc  -518.134771 -144.512845\n",
       "6    volc  -452.203972 -102.269583\n",
       "7    volc  -426.850450 -100.392910\n",
       "8    volc  -266.902302    5.764896\n",
       "9    volc  -170.003433   81.508510\n",
       "10   lime  -171.324185  238.855615\n",
       "11   lime  -148.415345  250.834806\n",
       "12   lime  -138.099208  276.803309\n",
       "13   lime  -122.348431  264.403146\n",
       "14   lime  -163.254633  238.954785\n",
       "15  alluv  1145.961352  -89.919488\n",
       "16  alluv  1124.625735  -94.771621\n",
       "17  alluv  1195.778032  -78.047645\n",
       "18  alluv  1256.642101  -45.498225\n",
       "19  alluv  1251.866686  -37.887673"
      ]
     },
     "execution_count": 281,
     "metadata": {},
     "output_type": "execute_result"
    }
   ],
   "source": [
    "existing_df_2d"
   ]
  },
  {
   "cell_type": "code",
   "execution_count": 282,
   "metadata": {
    "collapsed": false,
    "nbpresent": {
     "id": "246c6a25-2b0e-41ad-be24-a0b7dd3e7e34"
    },
    "slideshow": {
     "slide_type": "skip"
    }
   },
   "outputs": [
    {
     "data": {
      "text/html": [
       "<div>\n",
       "<style scoped>\n",
       "    .dataframe tbody tr th:only-of-type {\n",
       "        vertical-align: middle;\n",
       "    }\n",
       "\n",
       "    .dataframe tbody tr th {\n",
       "        vertical-align: top;\n",
       "    }\n",
       "\n",
       "    .dataframe thead th {\n",
       "        text-align: right;\n",
       "    }\n",
       "</style>\n",
       "<table border=\"1\" class=\"dataframe\">\n",
       "  <thead>\n",
       "    <tr style=\"text-align: right;\">\n",
       "      <th></th>\n",
       "      <th>sample</th>\n",
       "      <th>litho</th>\n",
       "      <th>PC1</th>\n",
       "      <th>PC2</th>\n",
       "    </tr>\n",
       "  </thead>\n",
       "  <tbody>\n",
       "    <tr>\n",
       "      <th>0</th>\n",
       "      <td>Pang1</td>\n",
       "      <td>volc</td>\n",
       "      <td>-838.951592</td>\n",
       "      <td>-121.561683</td>\n",
       "    </tr>\n",
       "    <tr>\n",
       "      <th>1</th>\n",
       "      <td>Pang2</td>\n",
       "      <td>volc</td>\n",
       "      <td>-846.664166</td>\n",
       "      <td>-129.334472</td>\n",
       "    </tr>\n",
       "    <tr>\n",
       "      <th>2</th>\n",
       "      <td>Bdg1</td>\n",
       "      <td>volc</td>\n",
       "      <td>-593.633184</td>\n",
       "      <td>-136.570959</td>\n",
       "    </tr>\n",
       "    <tr>\n",
       "      <th>3</th>\n",
       "      <td>Bdg2</td>\n",
       "      <td>volc</td>\n",
       "      <td>-581.479636</td>\n",
       "      <td>-130.548613</td>\n",
       "    </tr>\n",
       "    <tr>\n",
       "      <th>4</th>\n",
       "      <td>Bdg3</td>\n",
       "      <td>volc</td>\n",
       "      <td>-536.608599</td>\n",
       "      <td>-145.809350</td>\n",
       "    </tr>\n",
       "    <tr>\n",
       "      <th>5</th>\n",
       "      <td>Bdg4</td>\n",
       "      <td>volc</td>\n",
       "      <td>-518.134771</td>\n",
       "      <td>-144.512845</td>\n",
       "    </tr>\n",
       "    <tr>\n",
       "      <th>6</th>\n",
       "      <td>Bdg5</td>\n",
       "      <td>volc</td>\n",
       "      <td>-452.203972</td>\n",
       "      <td>-102.269583</td>\n",
       "    </tr>\n",
       "    <tr>\n",
       "      <th>7</th>\n",
       "      <td>Bdg6</td>\n",
       "      <td>volc</td>\n",
       "      <td>-426.850450</td>\n",
       "      <td>-100.392910</td>\n",
       "    </tr>\n",
       "    <tr>\n",
       "      <th>8</th>\n",
       "      <td>Bdg7</td>\n",
       "      <td>volc</td>\n",
       "      <td>-266.902302</td>\n",
       "      <td>5.764896</td>\n",
       "    </tr>\n",
       "    <tr>\n",
       "      <th>9</th>\n",
       "      <td>Bdg8</td>\n",
       "      <td>volc</td>\n",
       "      <td>-170.003433</td>\n",
       "      <td>81.508510</td>\n",
       "    </tr>\n",
       "    <tr>\n",
       "      <th>10</th>\n",
       "      <td>Pad1</td>\n",
       "      <td>lime</td>\n",
       "      <td>-171.324185</td>\n",
       "      <td>238.855615</td>\n",
       "    </tr>\n",
       "    <tr>\n",
       "      <th>11</th>\n",
       "      <td>Pad2</td>\n",
       "      <td>lime</td>\n",
       "      <td>-148.415345</td>\n",
       "      <td>250.834806</td>\n",
       "    </tr>\n",
       "    <tr>\n",
       "      <th>12</th>\n",
       "      <td>Pad3</td>\n",
       "      <td>lime</td>\n",
       "      <td>-138.099208</td>\n",
       "      <td>276.803309</td>\n",
       "    </tr>\n",
       "    <tr>\n",
       "      <th>13</th>\n",
       "      <td>Pad4</td>\n",
       "      <td>lime</td>\n",
       "      <td>-122.348431</td>\n",
       "      <td>264.403146</td>\n",
       "    </tr>\n",
       "    <tr>\n",
       "      <th>14</th>\n",
       "      <td>Pad5</td>\n",
       "      <td>lime</td>\n",
       "      <td>-163.254633</td>\n",
       "      <td>238.954785</td>\n",
       "    </tr>\n",
       "    <tr>\n",
       "      <th>15</th>\n",
       "      <td>Indra1</td>\n",
       "      <td>alluv</td>\n",
       "      <td>1145.961352</td>\n",
       "      <td>-89.919488</td>\n",
       "    </tr>\n",
       "    <tr>\n",
       "      <th>16</th>\n",
       "      <td>Indra2</td>\n",
       "      <td>alluv</td>\n",
       "      <td>1124.625735</td>\n",
       "      <td>-94.771621</td>\n",
       "    </tr>\n",
       "    <tr>\n",
       "      <th>17</th>\n",
       "      <td>Indra3</td>\n",
       "      <td>alluv</td>\n",
       "      <td>1195.778032</td>\n",
       "      <td>-78.047645</td>\n",
       "    </tr>\n",
       "    <tr>\n",
       "      <th>18</th>\n",
       "      <td>Indra4</td>\n",
       "      <td>alluv</td>\n",
       "      <td>1256.642101</td>\n",
       "      <td>-45.498225</td>\n",
       "    </tr>\n",
       "    <tr>\n",
       "      <th>19</th>\n",
       "      <td>Indra5</td>\n",
       "      <td>alluv</td>\n",
       "      <td>1251.866686</td>\n",
       "      <td>-37.887673</td>\n",
       "    </tr>\n",
       "  </tbody>\n",
       "</table>\n",
       "</div>"
      ],
      "text/plain": [
       "    sample  litho          PC1         PC2\n",
       "0    Pang1   volc  -838.951592 -121.561683\n",
       "1    Pang2   volc  -846.664166 -129.334472\n",
       "2     Bdg1   volc  -593.633184 -136.570959\n",
       "3     Bdg2   volc  -581.479636 -130.548613\n",
       "4     Bdg3   volc  -536.608599 -145.809350\n",
       "5     Bdg4   volc  -518.134771 -144.512845\n",
       "6     Bdg5   volc  -452.203972 -102.269583\n",
       "7     Bdg6   volc  -426.850450 -100.392910\n",
       "8     Bdg7   volc  -266.902302    5.764896\n",
       "9     Bdg8   volc  -170.003433   81.508510\n",
       "10    Pad1   lime  -171.324185  238.855615\n",
       "11    Pad2   lime  -148.415345  250.834806\n",
       "12    Pad3   lime  -138.099208  276.803309\n",
       "13    Pad4   lime  -122.348431  264.403146\n",
       "14    Pad5   lime  -163.254633  238.954785\n",
       "15  Indra1  alluv  1145.961352  -89.919488\n",
       "16  Indra2  alluv  1124.625735  -94.771621\n",
       "17  Indra3  alluv  1195.778032  -78.047645\n",
       "18  Indra4  alluv  1256.642101  -45.498225\n",
       "19  Indra5  alluv  1251.866686  -37.887673"
      ]
     },
     "execution_count": 282,
     "metadata": {},
     "output_type": "execute_result"
    }
   ],
   "source": [
    "existing_df_2d = pd.concat([sampleid, existing_df_2d], axis=1)\n",
    "existing_df_2d"
   ]
  },
  {
   "cell_type": "code",
   "execution_count": 283,
   "metadata": {
    "collapsed": false,
    "nbpresent": {
     "id": "d4bf1280-d2a8-4af2-9d54-bba79f9406db"
    },
    "scrolled": true,
    "slideshow": {
     "slide_type": "notes"
    }
   },
   "outputs": [
    {
     "data": {
      "image/png": "[encoded data removed]",
      "text/plain": [
       "<matplotlib.figure.Figure at 0x1a23f21358>"
      ]
     },
     "metadata": {},
     "output_type": "display_data"
    }
   ],
   "source": [
    "existing_df_2d.set_index('sample', inplace=True)\n",
    "ax = existing_df_2d.plot(kind='scatter', x='PC2', y='PC1', figsize=(16,8))\n",
    "for i, sample in enumerate(existing_df_2d.index):\n",
    "    ax.annotate(sample, (existing_df_2d.iloc[i].PC2, existing_df_2d.iloc[i].PC1))"
   ]
  },
  {
   "cell_type": "markdown",
   "metadata": {
    "nbpresent": {
     "id": "dfe35934-8adf-4f56-a5bb-1d13a7212c7b"
    },
    "slideshow": {
     "slide_type": "slide"
    }
   },
   "source": [
    "# results and discussions\n",
    "\n",
    "we should see separation between samples: \n",
    "\n",
    "- group 1 strong `Cl`\n",
    "- group 2 strong `CO3`\n",
    "- group 3 strong contaminations of NO2, NO3, NH4?\n",
    "- group 4 strong `SO4` "
   ]
  },
  {
   "cell_type": "markdown",
   "metadata": {
    "nbpresent": {
     "id": "629f933d-7d1a-4e1b-8f33-c22a1d25da9f"
    },
    "slideshow": {
     "slide_type": "notes"
    }
   },
   "source": [
    "# Hasil dan diskusi\n",
    "\n",
    "Dari plot di atas dapat dilihat bahwa sampel dari kawasan pantai Indramayu (Indra1 - Indra5) dan sampel dari Padalarang (Pad1 - Pad4) terpisah dari sampel endapan gunung api (Bdg1 - Bdg8) dan Pangalengan (Pang1 dan Pang2). Kemungkinan besar dari nilai Cl nya untuk sampel dari daerah pesisi Indramayu dan karena tingginya nilai CO3 atau HCO3 untuk sampal-sampel dari Padalarang. Namun demikian, model ini akan jadi berbeda bila ada data air panas jenis klorida yang masuk ke dalam plot. Demikian pula untuk sampel air dari akuifer endapan volcanik Bdg7 dan Bdg8 memisahkan dari sampel dari endapan gunung api lainnya berkode Bdg1-Bdg6 dan Pang1-Pang2. Ini menarik bila dilihat bahwa sampel Bdg7 dan Bdg8 terletak lebih mendekati Kota Bandung dibanding sampel-sampel lainnya. Kedua sampel tersebut telah mendapatkan pengaruh dari komponen NH4, NO2 dan NO3, yang menjadi tolok ukur adanya aktivitas manusia. Apakah ini berarti mata air tersebut telah mengalami pencampuran dari resapan limbah domestik atau pertanian dari permukaan? Memerlukan data dan observasi lebih rinci untuk menjawabnya.   "
   ]
  },
  {
   "cell_type": "markdown",
   "metadata": {
    "nbpresent": {
     "id": "43b2406e-7fd9-4cc0-9c55-12b57648b430"
    },
    "slideshow": {
     "slide_type": "slide"
    }
   },
   "source": [
    "# conclusion\n",
    "\n",
    "we can divide the `toy samples` in to 3 groups:\n",
    "\n",
    "- **group 1** samples from coastal area (eg: Indramayu)\n",
    "- **group 2** samples from limestone area (eg: Padalarang)\n",
    "- **group 3** samples from `inner city-lowland` volcanic area (eg: Bandung)\n",
    "- **group 4** samples from `outer city-highland` volcanic area (eg: Pangalengan)"
   ]
  },
  {
   "cell_type": "markdown",
   "metadata": {
    "nbpresent": {
     "id": "d5c692ce-21dc-4ef2-9dd1-1ba1a6e06a89"
    },
    "slideshow": {
     "slide_type": "notes"
    }
   },
   "source": [
    "# Kesimpulan\n",
    "\n",
    "Dari proses ini dapat dilihat bahwa kami berhasil menguraikan sampel-sampel kualitas air yang dimiliki menjadi beberapa bagian, yakni __Kelompok 1__: sampel dari pesisir Indramayu; __Kelompok 2__: sampel dari kawasan batugamping Padalarang; serta __Kelompok 3__: sampel dari endapan gunungapi Bandung dan Pangalengan. Kelompok 3 masih dapat dibagi lagi menjadi sampel yang berada di bagian hulu yang relatif belum mendapatkan pengaruh aktivitas manusia, dan sampel dari bagian hilir (mungkin dekat dengan kawasan pemukiman) yang mungkin telah menerima pengaruh dari aktivitas manusia. Harapan kami, metode ini dapat diaplikasikan untuk analisis sampel data kualitas air hipertermal guna mengidentifikasi proses yang terjadi, untuk membedakannya dari air dingin (mesotermal), atau mengidentifikasi ada atau tidaknya pengaruh sistem geotermal kepada sistem air tanah yang digunakan oleh penduduk sekitarnya."
   ]
  },
  {
   "cell_type": "markdown",
   "metadata": {
    "nbpresent": {
     "id": "9d7a6086-b519-490b-bdf3-fe44a374bb9e"
    },
    "slideshow": {
     "slide_type": "slide"
    }
   },
   "source": [
    "## take home message\n",
    "\n",
    "- sometimes data might behave beyond our visual recognition. \n",
    "- this multivariable technique might give you more insight from your data.\n",
    "- we hope this method can assist you to foreseen the unseen in your data.\n",
    "- all resources are accessible via [GitHub repository](https://github.com/dasaptaerwin/iigw2018)."
   ]
  },
  {
   "cell_type": "markdown",
   "metadata": {
    "nbpresent": {
     "id": "d5d428e5-ecc5-4530-b576-67598c8565ce"
    },
    "slideshow": {
     "slide_type": "slide"
    }
   },
   "source": [
    "# should anyone be interested in this `mess`, here's my contact: \n",
    "\n",
    "- email: `dasaptaerwin at gmail`\n",
    "- twitter handle: `@dasaptaerwin`"
   ]
  }
 ],
 "metadata": {
  "anaconda-cloud": {},
  "celltoolbar": "Slideshow",
  "kernelspec": {
   "display_name": "Python [default]",
   "language": "python",
   "name": "python3"
  },
  "language_info": {
   "codemirror_mode": {
    "name": "ipython",
    "version": 3
   },
   "file_extension": ".py",
   "mimetype": "text/x-python",
   "name": "python",
   "nbconvert_exporter": "python",
   "pygments_lexer": "ipython3",
   "version": "3.4.5"
  }
 },
 "nbformat": 4,
 "nbformat_minor": 2
}
